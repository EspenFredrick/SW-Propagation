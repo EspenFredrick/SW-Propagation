{
 "cells": [
  {
   "cell_type": "markdown",
   "source": [
    "## Import lbraries\n",
    "---\n",
    "This cell calls the libraries needed for computation, for downloading the data, and for plotting it."
   ],
   "metadata": {
    "collapsed": false,
    "pycharm": {
     "name": "#%% md\n"
    }
   }
  },
  {
   "cell_type": "code",
   "execution_count": 56,
   "outputs": [],
   "source": [
    "# Numerical libraries:\n",
    "import numpy as np\n",
    "import pandas as pd\n",
    "from scipy import interpolate\n",
    "from scipy.optimize import curve_fit\n",
    "\n",
    "# File libraries:\n",
    "import sv\n",
    "\n",
    "#SunPy libraries (for CDAWeb):\n",
    "from sunpy.net import Fido\n",
    "from sunpy.net import attrs as a\n",
    "from sunpy.timeseries import TimeSeries\n",
    "\n",
    "#Pyspedas libraries:\n",
    "import pyspedas\n",
    "import pytplot\n",
    "from pytplot import del_data, get_data, store_data, tplot_options, tplot_names, tplot\n",
    "\n",
    "#For handling timestamps:\n",
    "import datetime as dt\n",
    "from datetime import datetime\n",
    "from datetime import timedelta\n",
    "\n",
    "#Plotting libraries:\n",
    "import matplotlib.pyplot as plt\n",
    "import matplotlib.dates as mdates\n",
    "from matplotlib import ticker"
   ],
   "metadata": {
    "collapsed": false,
    "pycharm": {
     "name": "#%%\n"
    }
   }
  },
  {
   "cell_type": "markdown",
   "source": [
    "## Import the list of events\n",
    "---\n",
    "This cell first opens the CSV file that contains the event list. It then creates a variable with the start times, stop times, and the probe to be used for each measurement."
   ],
   "metadata": {
    "collapsed": false,
    "pycharm": {
     "name": "#%% md\n"
    }
   }
  },
  {
   "cell_type": "code",
   "execution_count": 100,
   "outputs": [],
   "source": [
    "starts = []\n",
    "stops = []\n",
    "mms_probe = []\n",
    "themis_probe = []\n",
    "artemis_probe = []\n",
    "time_ranges = []\n",
    "\n",
    "with open('../eventlist/eventlist.csv', newline='') as events:\n",
    "    rows = csv.reader(events)\n",
    "    next(rows)\n",
    "    for r in rows:\n",
    "        starts.append(dt.datetime.strptime(r[0], '%Y-%m-%dT%H:%M:%S.%fZ'))\n",
    "        stops.append(dt.datetime.strptime(r[1], '%Y-%m-%dT%H:%M:%S.%fZ'))\n",
    "        #mms_probe.append(r[2])\n",
    "        themis_probe.append(str(r[3]))\n",
    "        #artemis_probe.append(r[4])\n",
    "\n",
    "for i, j in enumerate(starts):\n",
    "    time_ranges.append([starts[i].strftime('%Y-%m-%d/%H:%M:%S'), stops[i].strftime('%Y-%m-%d/%H:%M:%S')])"
   ],
   "metadata": {
    "collapsed": false,
    "pycharm": {
     "name": "#%%\n"
    }
   }
  },
  {
   "cell_type": "markdown",
   "source": [
    "## Single-event analysis\n",
    "---\n",
    "The following cells perform the analysis for a single period of time. Please refer to the list of events for the correct index corresponding to the event you wish to analyze\n",
    "\n",
    "The current variables are:\n",
    "- `themis_fgm_data`: dictionary of parameters with the following relevant flags:\n",
    "    - `'thx_fgs_gse'`: fluxgate magnetometer in GSE coords (replace x with spacecraft letter for the event)\n",
    "        - `'x'`: the timestamps, in Unix time\n",
    "        - `'y'`: the 3xn array of x, y, and z readings of the IMF\n",
    "\n",
    "- `omni_mag_data`: dictionary of parameters with the following relevant flags:\n",
    "    - `'BX_GSE'`: interplanetary magnetic field measurements in X\n",
    "        - `'x'`: the timestamps, as a DateTime obj\n",
    "        - `'y'`: the measurements of IMF Bx\n",
    "    - `'BY_GSE'`: interplanetary magnetic field measurements in Y\n",
    "        - `'x'`: the timestamps, as a DateTime obj\n",
    "        - `'y'`: the measurements of IMF By\n",
    "    - `'BZ_GSE'`: interplanetary magnetic field measurements in Z\n",
    "        - `'x'`: the timestamps, as a DateTime obj\n",
    "        - `'y'`: the measurements of IMF Bz"
   ],
   "metadata": {
    "collapsed": false,
    "pycharm": {
     "name": "#%% md\n"
    }
   }
  },
  {
   "cell_type": "code",
   "execution_count": 122,
   "outputs": [],
   "source": [
    "#-Choose input time range and spacecraft ID here:-----\n",
    "event = 0\n",
    "ID = 'a'\n",
    "#-----------------------------------------------------"
   ],
   "metadata": {
    "collapsed": false,
    "pycharm": {
     "name": "#%%\n"
    }
   }
  },
  {
   "cell_type": "code",
   "execution_count": 184,
   "outputs": [
    {
     "name": "stderr",
     "output_type": "stream",
     "text": [
      "21-Feb-23 13:54:11: Downloading remote index: http://themis.ssl.berkeley.edu/data/themis/tha/l2/fgm/2011/\n",
      "21-Feb-23 13:54:12: File is current: themis_data/tha/l2/fgm/2011/tha_l2_fgm_20111024_v01.cdf\n",
      "21-Feb-23 13:54:12: Downloading remote index: http://themis.ssl.berkeley.edu/data/themis/tha/l2/esa/2011/\n",
      "21-Feb-23 13:54:13: File is current: themis_data/tha/l2/esa/2011/tha_l2_esa_20111024_v01.cdf\n",
      "21-Feb-23 13:54:16: Downloading remote index: https://spdf.gsfc.nasa.gov/pub/data/omni/omni_cdaweb/hro2_1min/2011/\n",
      "21-Feb-23 13:54:16: File is current: omni_data/hro2_1min/2011/omni_hro2_1min_20111001_v01.cdf\n"
     ]
    }
   ],
   "source": [
    "themis_fgm_data = pyspedas.themis.fgm(trange=time_ranges[event], probe=themis_probe[event], varnames='th'+ID+'_fgs_gse', notplot=True)\n",
    "themis_esa_data = pyspedas.themis.esa(trange=time_ranges[event], probe=themis_probe[event], notplot=True)\n",
    "omni_mag_data = pyspedas.omni.data(trange=time_ranges[event], datatype='1min', level='hro2', notplot=True)"
   ],
   "metadata": {
    "collapsed": false,
    "pycharm": {
     "name": "#%%\n"
    }
   }
  },
  {
   "cell_type": "code",
   "execution_count": 181,
   "outputs": [
    {
     "data": {
      "text/plain": "array([-7.17, -7.22, -7.37, ..., -3.76, -4.34, -4.6 ], dtype=float32)"
     },
     "execution_count": 181,
     "metadata": {},
     "output_type": "execute_result"
    }
   ],
   "source": [
    "omni_mag_data['BZ_GSE']['y']"
   ],
   "metadata": {
    "collapsed": false,
    "pycharm": {
     "name": "#%%\n"
    }
   }
  },
  {
   "cell_type": "code",
   "execution_count": null,
   "outputs": [],
   "source": [],
   "metadata": {
    "collapsed": false,
    "pycharm": {
     "name": "#%%\n"
    }
   }
  },
  {
   "cell_type": "code",
   "execution_count": null,
   "outputs": [],
   "source": [],
   "metadata": {
    "collapsed": false,
    "pycharm": {
     "name": "#%%\n"
    }
   }
  },
  {
   "cell_type": "code",
   "execution_count": null,
   "outputs": [],
   "source": [],
   "metadata": {
    "collapsed": false,
    "pycharm": {
     "name": "#%%\n"
    }
   }
  },
  {
   "cell_type": "code",
   "execution_count": null,
   "outputs": [],
   "source": [],
   "metadata": {
    "collapsed": false,
    "pycharm": {
     "name": "#%%\n"
    }
   }
  },
  {
   "cell_type": "markdown",
   "source": [
    "## Multi-even analysis\n",
    "---\n",
    "Stuff"
   ],
   "metadata": {
    "collapsed": false,
    "pycharm": {
     "name": "#%% md\n"
    }
   }
  },
  {
   "cell_type": "code",
   "execution_count": null,
   "outputs": [],
   "source": [
    "themis_fgm_data = {}\n",
    "keys = range(len(time_ranges))\n",
    "for i in keys:\n",
    "    themis_fgm_data[i] = get_data(pyspedas.themis.fgm(trange=time_ranges[i], probe=themis_probe[i])[2])"
   ],
   "metadata": {
    "collapsed": false,
    "pycharm": {
     "name": "#%%\n"
    }
   }
  },
  {
   "cell_type": "code",
   "execution_count": 92,
   "outputs": [
    {
     "data": {
      "text/plain": "array([1.31941472e+09, 1.31941473e+09, 1.31941473e+09, ...,\n       1.31950083e+09, 1.31950084e+09, 1.31950084e+09])"
     },
     "execution_count": 92,
     "metadata": {},
     "output_type": "execute_result"
    }
   ],
   "source": [
    "themis_fgm_times = {}\n",
    "themis_fgm_fields = {}\n",
    "keys = range(len(themis_fgm_data[0][0]))\n",
    "\n",
    "for i in keys:\n",
    "    themis_fgm_times[i] = [themis_timestamps.append(dt.datetime.utcfromtimestamp(themis_fgm_data[0][j])) for j in range(len(themis_fgm_data[0]))]"
   ],
   "metadata": {
    "collapsed": false,
    "pycharm": {
     "name": "#%%\n"
    }
   }
  },
  {
   "cell_type": "code",
   "execution_count": 82,
   "outputs": [
    {
     "name": "stderr",
     "output_type": "stream",
     "text": [
      "21-Feb-23 11:01:02: Downloading remote index: http://themis.ssl.berkeley.edu/data/themis/thd/l2/fgm/2011/\n",
      "21-Feb-23 11:01:03: File is current: themis_data/thd/l2/fgm/2011/thd_l2_fgm_20111024_v01.cdf\n"
     ]
    }
   ],
   "source": [
    "\n",
    "themis_timestamps=[]\n",
    "\n",
    "\n",
    "themis_fields = themis_fgm_data[1]"
   ],
   "metadata": {
    "collapsed": false,
    "pycharm": {
     "name": "#%%\n"
    }
   }
  },
  {
   "cell_type": "code",
   "execution_count": null,
   "outputs": [],
   "source": [],
   "metadata": {
    "collapsed": false,
    "pycharm": {
     "name": "#%%\n"
    }
   }
  }
 ],
 "metadata": {
  "kernelspec": {
   "display_name": "Python 3",
   "language": "python",
   "name": "python3"
  },
  "language_info": {
   "codemirror_mode": {
    "name": "ipython",
    "version": 2
   },
   "file_extension": ".py",
   "mimetype": "text/x-python",
   "name": "python",
   "nbconvert_exporter": "python",
   "pygments_lexer": "ipython2",
   "version": "2.7.6"
  }
 },
 "nbformat": 4,
 "nbformat_minor": 0
}