{
 "cells": [
  {
   "cell_type": "markdown",
   "source": [
    "## Import lbraries\n",
    "---\n",
    "This cell calls the libraries needed for computation, for downloading the data, and for plotting it."
   ],
   "metadata": {
    "collapsed": false,
    "pycharm": {
     "name": "#%% md\n"
    }
   }
  },
  {
   "cell_type": "code",
   "execution_count": 56,
   "outputs": [],
   "source": [
    "# Numerical libraries:\n",
    "import numpy as np\n",
    "import pandas as pd\n",
    "from scipy import interpolate\n",
    "from scipy.optimize import curve_fit\n",
    "\n",
    "# File libraries:\n",
    "import csv\n",
    "\n",
    "#SunPy libraries (for CDAWeb):\n",
    "from sunpy.net import Fido\n",
    "from sunpy.net import attrs as a\n",
    "from sunpy.timeseries import TimeSeries\n",
    "\n",
    "#Pyspedas libraries:\n",
    "import pyspedas\n",
    "import pytplot\n",
    "from pytplot import del_data, get_data, store_data, tplot_options, tplot_names, tplot\n",
    "\n",
    "#For handling timestamps:\n",
    "import datetime as dt\n",
    "from datetime import datetime\n",
    "from datetime import timedelta\n",
    "\n",
    "#Plotting libraries:\n",
    "import matplotlib.pyplot as plt\n",
    "import matplotlib.dates as mdates\n",
    "from matplotlib import ticker"
   ],
   "metadata": {
    "collapsed": false,
    "pycharm": {
     "name": "#%%\n"
    }
   }
  },
  {
   "cell_type": "markdown",
   "source": [
    "## Import the CDAWeb data for this session\n",
    "---\n",
    "This cell first opens the CSV file that contains the event list. It then creates a variable with the start times, stop times, and the probe to be used for each measurement. The cell downloads the data using Pyspedas and dumps it into an array."
   ],
   "metadata": {
    "collapsed": false,
    "pycharm": {
     "name": "#%% md\n"
    }
   }
  },
  {
   "cell_type": "code",
   "execution_count": null,
   "outputs": [
    {
     "name": "stderr",
     "output_type": "stream",
     "text": [
      "21-Feb-23 11:25:33: Downloading remote index: http://themis.ssl.berkeley.edu/data/themis/tha/l2/fgm/2011/\n",
      "21-Feb-23 11:25:34: Downloading http://themis.ssl.berkeley.edu/data/themis/tha/l2/fgm/2011/tha_l2_fgm_20111024_v01.cdf to themis_data/tha/l2/fgm/2011/tha_l2_fgm_20111024_v01.cdf\n",
      "21-Feb-23 11:26:30: Download complete: themis_data/tha/l2/fgm/2011/tha_l2_fgm_20111024_v01.cdf\n",
      "21-Feb-23 11:26:34: Downloading remote index: http://themis.ssl.berkeley.edu/data/themis/the/l2/fgm/2011/\n",
      "21-Feb-23 11:26:35: Downloading http://themis.ssl.berkeley.edu/data/themis/the/l2/fgm/2011/the_l2_fgm_20111228_v01.cdf to themis_data/the/l2/fgm/2011/the_l2_fgm_20111228_v01.cdf\n",
      "21-Feb-23 11:27:17: Download complete: themis_data/the/l2/fgm/2011/the_l2_fgm_20111228_v01.cdf\n",
      "21-Feb-23 11:27:20: Downloading remote index: http://themis.ssl.berkeley.edu/data/themis/thd/l2/fgm/2013/\n",
      "21-Feb-23 11:27:22: Downloading http://themis.ssl.berkeley.edu/data/themis/thd/l2/fgm/2013/thd_l2_fgm_20130117_v01.cdf to themis_data/thd/l2/fgm/2013/thd_l2_fgm_20130117_v01.cdf\n",
      "21-Feb-23 11:28:14: Download complete: themis_data/thd/l2/fgm/2013/thd_l2_fgm_20130117_v01.cdf\n",
      "21-Feb-23 11:28:18: Downloading remote index: http://themis.ssl.berkeley.edu/data/themis/thd/l2/fgm/2014/\n",
      "21-Feb-23 11:28:18: Downloading http://themis.ssl.berkeley.edu/data/themis/thd/l2/fgm/2014/thd_l2_fgm_20140227_v01.cdf to themis_data/thd/l2/fgm/2014/thd_l2_fgm_20140227_v01.cdf\n",
      "21-Feb-23 11:29:14: Download complete: themis_data/thd/l2/fgm/2014/thd_l2_fgm_20140227_v01.cdf\n",
      "21-Feb-23 11:29:19: Downloading remote index: http://themis.ssl.berkeley.edu/data/themis/thd/l2/fgm/2014/\n",
      "21-Feb-23 11:29:20: File is current: themis_data/thd/l2/fgm/2014/thd_l2_fgm_20140227_v01.cdf\n",
      "21-Feb-23 11:29:24: Downloading remote index: http://themis.ssl.berkeley.edu/data/themis/thd/l2/fgm/2014/\n",
      "21-Feb-23 11:29:25: Downloading http://themis.ssl.berkeley.edu/data/themis/thd/l2/fgm/2014/thd_l2_fgm_20140405_v01.cdf to themis_data/thd/l2/fgm/2014/thd_l2_fgm_20140405_v01.cdf\n",
      "21-Feb-23 11:30:31: Download complete: themis_data/thd/l2/fgm/2014/thd_l2_fgm_20140405_v01.cdf\n",
      "21-Feb-23 11:30:37: Downloading remote index: http://themis.ssl.berkeley.edu/data/themis/thd/l2/fgm/2015/\n",
      "21-Feb-23 11:30:38: Downloading http://themis.ssl.berkeley.edu/data/themis/thd/l2/fgm/2015/thd_l2_fgm_20150316_v01.cdf to themis_data/thd/l2/fgm/2015/thd_l2_fgm_20150316_v01.cdf\n",
      "21-Feb-23 11:31:41: Download complete: themis_data/thd/l2/fgm/2015/thd_l2_fgm_20150316_v01.cdf\n",
      "21-Feb-23 11:31:45: Downloading remote index: http://themis.ssl.berkeley.edu/data/themis/the/l2/fgm/2015/\n",
      "21-Feb-23 11:31:46: Downloading http://themis.ssl.berkeley.edu/data/themis/the/l2/fgm/2015/the_l2_fgm_20150317_v01.cdf to themis_data/the/l2/fgm/2015/the_l2_fgm_20150317_v01.cdf\n",
      "21-Feb-23 11:33:08: Download complete: themis_data/the/l2/fgm/2015/the_l2_fgm_20150317_v01.cdf\n",
      "21-Feb-23 11:33:14: Downloading remote index: http://themis.ssl.berkeley.edu/data/themis/the/l2/fgm/2017/\n",
      "21-Feb-23 11:33:15: Downloading http://themis.ssl.berkeley.edu/data/themis/the/l2/fgm/2017/the_l2_fgm_20170915_v01.cdf to themis_data/the/l2/fgm/2017/the_l2_fgm_20170915_v01.cdf\n",
      "21-Feb-23 11:34:14: Download complete: themis_data/the/l2/fgm/2017/the_l2_fgm_20170915_v01.cdf\n",
      "21-Feb-23 11:34:19: Downloading remote index: http://themis.ssl.berkeley.edu/data/themis/tha/l2/fgm/2015/\n",
      "21-Feb-23 11:34:20: Downloading http://themis.ssl.berkeley.edu/data/themis/tha/l2/fgm/2015/tha_l2_fgm_20150420_v01.cdf to themis_data/tha/l2/fgm/2015/tha_l2_fgm_20150420_v01.cdf\n"
     ]
    }
   ],
   "source": [
    "starts = []\n",
    "stops = []\n",
    "mms_probe = []\n",
    "themis_probe = []\n",
    "artemis_probe = []\n",
    "time_ranges = []\n",
    "\n",
    "with open('../eventlist/eventlist.csv', newline='') as events:\n",
    "    rows = csv.reader(events)\n",
    "    next(rows)\n",
    "    for r in rows:\n",
    "        starts.append(dt.datetime.strptime(r[0], '%Y-%m-%dT%H:%M:%S.%fZ'))\n",
    "        stops.append(dt.datetime.strptime(r[1], '%Y-%m-%dT%H:%M:%S.%fZ'))\n",
    "        #mms_probe.append(r[2])\n",
    "        themis_probe.append(str(r[3]))\n",
    "        #artemis_probe.append(r[4])\n",
    "\n",
    "for i, j in enumerate(starts):\n",
    "    time_ranges.append([starts[i].strftime('%Y-%m-%d/%H:%M:%S'), stops[i].strftime('%Y-%m-%d/%H:%M:%S')])\n",
    "\n",
    "themis_fgm_data = {}\n",
    "keys = range(len(time_ranges))\n",
    "for i in keys:\n",
    "    themis_fgm_data[i] = get_data(pyspedas.themis.fgm(trange=time_ranges[i], probe=themis_probe[i])[2])"
   ],
   "metadata": {
    "collapsed": false,
    "pycharm": {
     "name": "#%%\n",
     "is_executing": true
    }
   }
  },
  {
   "cell_type": "code",
   "execution_count": 82,
   "outputs": [
    {
     "name": "stderr",
     "output_type": "stream",
     "text": [
      "21-Feb-23 11:01:02: Downloading remote index: http://themis.ssl.berkeley.edu/data/themis/thd/l2/fgm/2011/\n",
      "21-Feb-23 11:01:03: File is current: themis_data/thd/l2/fgm/2011/thd_l2_fgm_20111024_v01.cdf\n"
     ]
    }
   ],
   "source": [
    "\n",
    "themis_timestamps=[]\n",
    "[themis_timestamps.append(dt.datetime.utcfromtimestamp(themis_fgm_data[0][i])) for i in range(len(themis_fgm_data[0]))]\n",
    "\n",
    "themis_fields = themis_fgm_data[1]"
   ],
   "metadata": {
    "collapsed": false,
    "pycharm": {
     "name": "#%%\n"
    }
   }
  },
  {
   "cell_type": "code",
   "execution_count": null,
   "outputs": [],
   "source": [],
   "metadata": {
    "collapsed": false,
    "pycharm": {
     "name": "#%%\n"
    }
   }
  }
 ],
 "metadata": {
  "kernelspec": {
   "display_name": "Python 3",
   "language": "python",
   "name": "python3"
  },
  "language_info": {
   "codemirror_mode": {
    "name": "ipython",
    "version": 2
   },
   "file_extension": ".py",
   "mimetype": "text/x-python",
   "name": "python",
   "nbconvert_exporter": "python",
   "pygments_lexer": "ipython2",
   "version": "2.7.6"
  }
 },
 "nbformat": 4,
 "nbformat_minor": 0
}