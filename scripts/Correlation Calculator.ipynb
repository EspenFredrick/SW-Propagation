{
 "cells": [
  {
   "cell_type": "markdown",
   "source": [
    "## Import lbraries\n",
    "---\n",
    "This cell calls the libraries needed for computation, for downloading the data, and for plotting it."
   ],
   "metadata": {
    "collapsed": false,
    "pycharm": {
     "name": "#%% md\n"
    }
   }
  },
  {
   "cell_type": "code",
   "execution_count": 27,
   "outputs": [],
   "source": [
    "# Numerical libraries:\n",
    "import numpy as np\n",
    "import pandas as pd\n",
    "from scipy import interpolate\n",
    "from scipy.optimize import curve_fit\n",
    "\n",
    "# File libraries:\n",
    "import csv\n",
    "\n",
    "#SunPy libraries (for CDAWeb):\n",
    "from sunpy.net import Fido\n",
    "from sunpy.net import attrs as a\n",
    "from sunpy.timeseries import TimeSeries\n",
    "\n",
    "#For handling timestamps:\n",
    "import datetime as dt\n",
    "from datetime import timedelta\n",
    "\n",
    "#Plotting libraries:\n",
    "import matplotlib.pyplot as plt\n",
    "import matplotlib.dates as mdates\n",
    "from matplotlib import ticker"
   ],
   "metadata": {
    "collapsed": false,
    "pycharm": {
     "name": "#%%\n"
    }
   }
  },
  {
   "cell_type": "markdown",
   "source": [
    "## Import the CDAWeb data for this session\n",
    "---\n",
    "This cell uses the SunPy package to get data from CDAWeb."
   ],
   "metadata": {
    "collapsed": false,
    "pycharm": {
     "name": "#%% md\n"
    }
   }
  },
  {
   "cell_type": "code",
   "execution_count": 28,
   "outputs": [],
   "source": [
    "starts = []\n",
    "stops = []\n",
    "\n",
    "with open('../eventlist/eventlist.csv', newline='') as events:\n",
    "    rows = csv.reader(events)\n",
    "    next(rows)\n",
    "    for r in rows:\n",
    "        starts.append(dt.datetime.strptime(r[0], '%Y-%m-%dT%H:%M:%S.%fZ'))\n",
    "        stops.append(dt.datetime.strptime(r[1], '%Y-%m-%dT%H:%M:%S.%fZ'))"
   ],
   "metadata": {
    "collapsed": false,
    "pycharm": {
     "name": "#%%\n"
    }
   }
  }
 ],
 "metadata": {
  "kernelspec": {
   "display_name": "Python 3",
   "language": "python",
   "name": "python3"
  },
  "language_info": {
   "codemirror_mode": {
    "name": "ipython",
    "version": 2
   },
   "file_extension": ".py",
   "mimetype": "text/x-python",
   "name": "python",
   "nbconvert_exporter": "python",
   "pygments_lexer": "ipython2",
   "version": "2.7.6"
  }
 },
 "nbformat": 4,
 "nbformat_minor": 0
}