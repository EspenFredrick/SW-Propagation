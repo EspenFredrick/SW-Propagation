{
 "cells": [
  {
   "cell_type": "markdown",
   "source": [
    "## Import lbraries\n",
    "---\n",
    "This cell calls the libraries needed for computation, for downloading the data, and for plotting it."
   ],
   "metadata": {
    "collapsed": false,
    "pycharm": {
     "name": "#%% md\n"
    }
   }
  },
  {
   "cell_type": "code",
   "execution_count": 1,
   "outputs": [],
   "source": [
    "# Numerical libraries:\n",
    "import numpy as np\n",
    "import pandas as pd\n",
    "from scipy import interpolate\n",
    "from scipy.optimize import curve_fit\n",
    "\n",
    "# File libraries:\n",
    "import csv\n",
    "\n",
    "#Pyspedas libraries:\n",
    "import pyspedas\n",
    "import pytplot\n",
    "from pytplot import del_data, get_data, store_data, tplot_options, tplot_names, tplot\n",
    "\n",
    "#For handling timestamps:\n",
    "import datetime as dt\n",
    "from datetime import datetime\n",
    "from datetime import timedelta\n",
    "\n",
    "#Plotting libraries:\n",
    "import matplotlib.pyplot as plt\n",
    "import matplotlib.dates as mdates\n",
    "from matplotlib import ticker"
   ],
   "metadata": {
    "collapsed": false,
    "pycharm": {
     "name": "#%%\n"
    }
   }
  },
  {
   "cell_type": "markdown",
   "source": [
    "## Import the list of events\n",
    "---\n",
    "This cell first opens the CSV file that contains the event list. It then creates a variable with the start times, stop times, and the probe to be used for each measurement."
   ],
   "metadata": {
    "collapsed": false,
    "pycharm": {
     "name": "#%% md\n"
    }
   }
  },
  {
   "cell_type": "code",
   "execution_count": 2,
   "outputs": [],
   "source": [
    "starts = []\n",
    "stops = []\n",
    "mms_probe = []\n",
    "themis_probe = []\n",
    "artemis_probe = []\n",
    "time_ranges = []\n",
    "\n",
    "with open('../eventlist/eventlist.csv', newline='') as events:\n",
    "    rows = csv.reader(events)\n",
    "    next(rows)\n",
    "    for r in rows:\n",
    "        starts.append(dt.datetime.strptime(r[0], '%Y-%m-%dT%H:%M:%S.%fZ'))\n",
    "        stops.append(dt.datetime.strptime(r[1], '%Y-%m-%dT%H:%M:%S.%fZ'))\n",
    "        #mms_probe.append(r[2])\n",
    "        themis_probe.append(str(r[3]))\n",
    "        #artemis_probe.append(r[4])\n",
    "\n",
    "for i, j in enumerate(starts):\n",
    "    time_ranges.append([starts[i], stops[i]])"
   ],
   "metadata": {
    "collapsed": false,
    "pycharm": {
     "name": "#%%\n"
    }
   }
  },
  {
   "cell_type": "markdown",
   "source": [
    "## Single-event analysis\n",
    "---\n",
    "The following cells perform the analysis for a single period of time. Please refer to the list of events for the correct index corresponding to the event you wish to analyze\n",
    "\n",
    "The current variables are:\n",
    "- `themis_fgm_data`: dictionary of parameters with the following relevant flags:\n",
    "    - `'thx_fgs_gse'`: fluxgate magnetometer in GSE coords (replace x with spacecraft letter for the event)\n",
    "        - `'x'`: the timestamps, in Unix time\n",
    "        - `'y'`: the 3xn array of x, y, and z readings of the IMF\n",
    "\n",
    "- `omni_mag_data`: dictionary of parameters with the following relevant flags:\n",
    "    - `'BX_GSE'`: interplanetary magnetic field measurements in X\n",
    "        - `'x'`: the timestamps, as a DateTime obj\n",
    "        - `'y'`: the measurements of IMF Bx\n",
    "    - `'BY_GSE'`: interplanetary magnetic field measurements in Y\n",
    "        - `'x'`: the timestamps, as a DateTime obj\n",
    "        - `'y'`: the measurements of IMF By\n",
    "    - `'BZ_GSE'`: interplanetary magnetic field measurements in Z\n",
    "        - `'x'`: the timestamps, as a DateTime obj\n",
    "        - `'y'`: the measurements of IMF Bz"
   ],
   "metadata": {
    "collapsed": false,
    "pycharm": {
     "name": "#%% md\n"
    }
   }
  },
  {
   "cell_type": "code",
   "execution_count": 12,
   "outputs": [],
   "source": [
    "#-Choose input time range and spacecraft ID here:-----\n",
    "event = 13\n",
    "ID = themis_probe[event]\n",
    "#-----------------------------------------------------"
   ],
   "metadata": {
    "collapsed": false,
    "pycharm": {
     "name": "#%%\n"
    }
   }
  },
  {
   "cell_type": "code",
   "execution_count": null,
   "outputs": [],
   "source": [
    "omni_mag_data = pyspedas.omni.data(trange=starts[event].strftime('%Y-%m-%d/%H:%M:%S'),stops[event].strftime('%Y-%m-%d/%H:%M:%S')], datatype='1min', level='hro2', time_clip=True, notplot=True)\n",
    "themis_fgm_data = pyspedas.themis.fgm(trange=[(starts[event]+timedelta(minutes=30)).strftime('%Y-%m-%d/%H:%M:%S'),stops[event].strftime('%Y-%m-%d/%H:%M:%S')], probe=themis_probe[event], varnames='th'+ID+'_fgs_gse', notplot=True)\n",
    "themis_esa_data = pyspedas.themis.esa(trange=[(starts[event]+timedelta(minutes=30)).strftime('%Y-%m-%d/%H:%M:%S'),stops[event].strftime('%Y-%m-%d/%H:%M:%S')], probe=themis_probe[event], notplot=True)"
   ],
   "metadata": {
    "collapsed": false,
    "pycharm": {
     "name": "#%%\n",
     "is_executing": true
    }
   }
  },
  {
   "cell_type": "markdown",
   "source": [
    "This cell then creates a dataframe out of everything so that it can be interpolated and averaged eventually"
   ],
   "metadata": {
    "collapsed": false,
    "pycharm": {
     "name": "#%% md\n"
    }
   }
  },
  {
   "cell_type": "code",
   "execution_count": 388,
   "outputs": [],
   "source": [
    "tt = []\n",
    "[tt.append(dt.datetime.utcfromtimestamp(themis_fgm_data['th'+ID+'_fgs_gse']['x'][i])) for i in range(len(themis_fgm_data['th'+ID+'_fgs_gse']['x']))]\n",
    "themis_b = pd.DataFrame(np.column_stack((tt, themis_fgm_data['th'+ID+'_fgs_gse']['y'])))\n",
    "omni_b = pd.DataFrame(np.column_stack((omni_mag_data['BX_GSE']['x'], pd.DataFrame(np.column_stack((omni_mag_data['BX_GSE']['y'], omni_mag_data['BY_GSE']['y'], omni_mag_data['BZ_GSE']['y']))).interpolate(method='linear'))))"
   ],
   "metadata": {
    "collapsed": false,
    "pycharm": {
     "name": "#%%\n"
    }
   }
  },
  {
   "cell_type": "markdown",
   "source": [
    "Next, define the function for averaging the THEMIS data"
   ],
   "metadata": {
    "collapsed": false,
    "pycharm": {
     "name": "#%% md\n"
    }
   }
  },
  {
   "cell_type": "code",
   "execution_count": 389,
   "outputs": [],
   "source": [
    "def average(times, data):\n",
    "    minute = times[0].minute # Set the current first minute of the data set\n",
    "    timeAvgs = [] # Create empty array to store the time-averaged values\n",
    "    avgArr = [] # Create empty storage array\n",
    "    timeStep = [] # Create empty time step array\n",
    "    for i in range(len(times)): # Index the values\n",
    "        if times[i].minute == minute: # If the time of the next value equals the one set for the minute\n",
    "            avgArr.append(data[i]) # Append this to the storage array\n",
    "        elif times[i].minute == minute + 1: # If the time of the next value equals the next minute\n",
    "            #print(avgArr)\n",
    "            timeAvgs.append(np.average(avgArr)) # Average the storage array and append it to the time-averaged value array\n",
    "            #print(np.average(avgArr))\n",
    "            timeStep.append(dt.datetime(times[i-1].year, times[i-1].month, times[i-1].day, times[i-1].hour, times[i-1].minute, 00)) # Create a timestamp for the previous minute centered at 0s to line up with the orbit timestamps\n",
    "            minute= times[i].minute # Set the new current minute to start averaging over\n",
    "            avgArr = [] # Clear the storage array\n",
    "        elif times[i].minute == minute - 59: # This is for rollover: when the next minute is 0\n",
    "            #print(avgArr)\n",
    "            timeAvgs.append(np.average(avgArr))\n",
    "            #print(np.average(avgArr))\n",
    "            timeStep.append(dt.datetime(times[i-1].year, times[i-1].month, times[i-1].day, times[i-1].hour, times[i-1].minute, 00))\n",
    "            minute = times[i].minute\n",
    "            avgArr = []\n",
    "    return pd.DataFrame(np.column_stack((timeStep, timeAvgs))) # Return the time-averaged array and the timestamp array"
   ],
   "metadata": {
    "collapsed": false,
    "pycharm": {
     "name": "#%%\n"
    }
   }
  },
  {
   "cell_type": "code",
   "execution_count": 390,
   "outputs": [],
   "source": [
    "a=average(themis_b[0], themis_b[1])"
   ],
   "metadata": {
    "collapsed": false,
    "pycharm": {
     "name": "#%%\n"
    }
   }
  },
  {
   "cell_type": "code",
   "execution_count": null,
   "outputs": [],
   "source": [],
   "metadata": {
    "collapsed": false,
    "pycharm": {
     "name": "#%%\n"
    }
   }
  },
  {
   "cell_type": "code",
   "execution_count": null,
   "outputs": [],
   "source": [],
   "metadata": {
    "collapsed": false,
    "pycharm": {
     "name": "#%%\n"
    }
   }
  },
  {
   "cell_type": "code",
   "execution_count": null,
   "outputs": [],
   "source": [],
   "metadata": {
    "collapsed": false,
    "pycharm": {
     "name": "#%%\n"
    }
   }
  },
  {
   "cell_type": "code",
   "execution_count": null,
   "outputs": [],
   "source": [],
   "metadata": {
    "collapsed": false,
    "pycharm": {
     "name": "#%%\n"
    }
   }
  },
  {
   "cell_type": "code",
   "execution_count": null,
   "outputs": [],
   "source": [],
   "metadata": {
    "collapsed": false,
    "pycharm": {
     "name": "#%%\n"
    }
   }
  },
  {
   "cell_type": "code",
   "execution_count": null,
   "outputs": [],
   "source": [],
   "metadata": {
    "collapsed": false,
    "pycharm": {
     "name": "#%%\n"
    }
   }
  },
  {
   "cell_type": "code",
   "execution_count": null,
   "outputs": [],
   "source": [],
   "metadata": {
    "collapsed": false,
    "pycharm": {
     "name": "#%%\n"
    }
   }
  },
  {
   "cell_type": "code",
   "execution_count": null,
   "outputs": [],
   "source": [],
   "metadata": {
    "collapsed": false,
    "pycharm": {
     "name": "#%%\n"
    }
   }
  },
  {
   "cell_type": "code",
   "execution_count": null,
   "outputs": [],
   "source": [],
   "metadata": {
    "collapsed": false,
    "pycharm": {
     "name": "#%%\n"
    }
   }
  },
  {
   "cell_type": "markdown",
   "source": [
    "## Multi-even analysis\n",
    "---\n",
    "Stuff"
   ],
   "metadata": {
    "collapsed": false,
    "pycharm": {
     "name": "#%% md\n"
    }
   }
  },
  {
   "cell_type": "code",
   "execution_count": null,
   "outputs": [],
   "source": [
    "themis_fgm_data = {}\n",
    "keys = range(len(time_ranges))\n",
    "for i in keys:\n",
    "    themis_fgm_data[i] = get_data(pyspedas.themis.fgm(trange=time_ranges[i], probe=themis_probe[i])[2])"
   ],
   "metadata": {
    "collapsed": false,
    "pycharm": {
     "name": "#%%\n"
    }
   }
  },
  {
   "cell_type": "code",
   "execution_count": 92,
   "outputs": [
    {
     "data": {
      "text/plain": "array([1.31941472e+09, 1.31941473e+09, 1.31941473e+09, ...,\n       1.31950083e+09, 1.31950084e+09, 1.31950084e+09])"
     },
     "execution_count": 92,
     "metadata": {},
     "output_type": "execute_result"
    }
   ],
   "source": [
    "themis_fgm_times = {}\n",
    "themis_fgm_fields = {}\n",
    "keys = range(len(themis_fgm_data[0][0]))\n",
    "\n",
    "for i in keys:\n",
    "    themis_fgm_times[i] = [themis_timestamps.append(dt.datetime.utcfromtimestamp(themis_fgm_data[0][j])) for j in range(len(themis_fgm_data[0]))]"
   ],
   "metadata": {
    "collapsed": false,
    "pycharm": {
     "name": "#%%\n"
    }
   }
  },
  {
   "cell_type": "code",
   "execution_count": 82,
   "outputs": [
    {
     "name": "stderr",
     "output_type": "stream",
     "text": [
      "21-Feb-23 11:01:02: Downloading remote index: http://themis.ssl.berkeley.edu/data/themis/thd/l2/fgm/2011/\n",
      "21-Feb-23 11:01:03: File is current: themis_data/thd/l2/fgm/2011/thd_l2_fgm_20111024_v01.cdf\n"
     ]
    }
   ],
   "source": [
    "\n",
    "themis_timestamps=[]\n",
    "\n",
    "\n",
    "themis_fields = themis_fgm_data[1]"
   ],
   "metadata": {
    "collapsed": false,
    "pycharm": {
     "name": "#%%\n"
    }
   }
  },
  {
   "cell_type": "code",
   "execution_count": null,
   "outputs": [],
   "source": [],
   "metadata": {
    "collapsed": false,
    "pycharm": {
     "name": "#%%\n"
    }
   }
  }
 ],
 "metadata": {
  "kernelspec": {
   "display_name": "Python 3",
   "language": "python",
   "name": "python3"
  },
  "language_info": {
   "codemirror_mode": {
    "name": "ipython",
    "version": 2
   },
   "file_extension": ".py",
   "mimetype": "text/x-python",
   "name": "python",
   "nbconvert_exporter": "python",
   "pygments_lexer": "ipython2",
   "version": "2.7.6"
  }
 },
 "nbformat": 4,
 "nbformat_minor": 0
}