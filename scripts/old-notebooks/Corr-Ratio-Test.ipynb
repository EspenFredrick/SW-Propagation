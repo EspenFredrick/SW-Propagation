{
 "cells": [
  {
   "cell_type": "code",
   "execution_count": 3,
   "outputs": [],
   "source": [
    "import numpy as np\n",
    "import pandas as pd\n",
    "import matplotlib.pyplot as plt\n",
    "import os\n",
    "import matplotlib.dates as mdates\n",
    "from matplotlib.ticker import AutoMinorLocator"
   ],
   "metadata": {
    "collapsed": false
   }
  },
  {
   "cell_type": "code",
   "execution_count": 7,
   "outputs": [],
   "source": [
    "def correlate(sliding, fixed, sat1Name, sat2Name, key):\n",
    "    dataRows = []\n",
    "    numWindows = len(fixed['Time']) - 59\n",
    "\n",
    "    for j in range(numWindows): # Find the correlation coefficient over 'numWindows' hour-intervals\n",
    "        sliding_start = (sliding.loc[sliding['Time'] == fixed['Time'][j]]).index[0] # Set the start time of the sliding index where the timestamp of the fixed series begins\n",
    "        sliding_stop = (sliding.loc[sliding['Time'] == fixed['Time'][j+59]]).index[0] # Set the end of the sliding index an hour after the start of the fixed series\n",
    "\n",
    "        pMaxes = []\n",
    "        ratioMaxes =[]\n",
    "        pOffsets = []\n",
    "        ratioOffsets = []\n",
    "\n",
    "        corrStore = [] # Temp storage array for coefficients\n",
    "        avgStore = [] # Temp storage array for ratios\n",
    "\n",
    "        fig, ax = plt.subplots(figsize=(8, 5))\n",
    "\n",
    "        for n in range(31): # Calculate a coefficient over a 0 to 30-min window\n",
    "            corrStore.append(np.corrcoef(fixed[key][j:j+59], sliding[key][sliding_start-n:sliding_stop-n])[0, 1])  # Append the storage array with the correlation coefficient\n",
    "            avgStore.append(np.average([(((m+n)*0.5)/abs(m-n)) for m, n in zip(sliding[key][sliding_start - n:sliding_stop - n].to_numpy(), fixed[key][j:j + 59].to_numpy())]))\n",
    "\n",
    "        ax.scatter(np.arange(0, 31, 1), corrStore, color='C0', label=\"Corr\")\n",
    "        ax.scatter(np.arange(0, 31, 1), avgStore, color='C1', label=\"Ratio\")\n",
    "\n",
    "        if all(c < 0 for c in corrStore[1:]):\n",
    "            pMaxes.append(max(corrStore[1:], key=abs))\n",
    "            pOffsets.append(corrStore.index(max(corrStore[1:], key=abs)))\n",
    "            pMaxLineHeight = max(corrStore[1:], key=abs)\n",
    "            pShift = corrStore.index(max(corrStore[1:], key=abs))\n",
    "\n",
    "        else:\n",
    "            pMaxes.append(max(corrStore[1:]))\n",
    "            pOffsets.append(corrStore.index(max(corrStore[1:])))\n",
    "            pMaxLineHeight = max(corrStore[1:])\n",
    "            pShift = corrStore.index(max(corrStore[1:]))\n",
    "\n",
    "\n",
    "        if avgStore.index(max(avgStore)) == 0:\n",
    "            avgStore[0] = 0\n",
    "        ratioMaxes.append(max(avgStore))\n",
    "        ratioOffsets.append(avgStore.index(max(avgStore)))\n",
    "        rShift = avgStore.index(max(avgStore))\n",
    "\n",
    "        ax.vlines(pShift, 0, pMaxLineHeight, linestyle='dashed', color='C0')\n",
    "        ax.vlines(rShift, 0, max(avgStore, key=abs), linestyle='dashed', color='C1')\n",
    "\n",
    "        ax.hlines(0, 0, 30, color='black')\n",
    "        ax.set_ylim(-1, 1)\n",
    "        ax.set_xlim(0, 30)\n",
    "        ax.set_title(\"Peak Corr. Coef./Hourly Ratio\")\n",
    "        ax.set_ylabel(\"Correlation Coefficient\", color='C0')\n",
    "        ax.set_xlabel(\"Timeshift (min)\")\n",
    "        ax.xaxis.set_minor_locator(AutoMinorLocator())\n",
    "        axr = ax.twinx()\n",
    "        axr.set_ylim(-1, 1)\n",
    "        axr.set_ylabel(\"Avg. Ratio of Series ({})\".format(key), color='C1')\n",
    "\n",
    "        if os.path.exists('../metadata/testplots/{}-{}_{}/{}/'.format(sat1Name, sat2Name, fixed['Time'][j].strftime('%Y-%m-%d'), key)):\n",
    "            plt.savefig('../metadata/testplots/{}-{}_{}/{}/{}-{}_{}.png'.format(sat1Name, sat2Name, fixed['Time'][j].strftime('%Y-%m-%d'), key, sat1Name, sat2Name, fixed['Time'][j].strftime('%H-%M-%S')), dpi=300)\n",
    "        else:\n",
    "            os.makedirs('../metadata/testplots/{}-{}_{}/{}/'.format(sat1Name, sat2Name, fixed['Time'][j].strftime('%Y-%m-%d'), key))\n",
    "            plt.savefig('../metadata/testplots/{}-{}_{}/{}/{}-{}_{}.png'.format(sat1Name, sat2Name, fixed['Time'][j].strftime('%Y-%m-%d'), key, sat1Name, sat2Name, fixed['Time'][j].strftime('%H-%M-%S')), dpi=300)\n",
    "        plt.close()\n",
    "\n",
    "        dataRows.append(np.concatenate(([fixed['Time'][j]], [fixed['Time'][j+59]], pMaxes, pOffsets, ratioMaxes, ratioOffsets), axis=None))\n",
    "\n",
    "    return dataRows #Output the entire chunk of metadata"
   ],
   "metadata": {
    "collapsed": false
   }
  },
  {
   "cell_type": "code",
   "execution_count": 8,
   "outputs": [],
   "source": [
    "sat1Directory = '../metadata/Artemis/Artemis_2013-01-17_10-30.csv'\n",
    "sat1Name = 'Artemis'\n",
    "sat2Directory = '../metadata/Omni/Omni_2013-01-17_10-30.csv'\n",
    "sat2Name = 'Omni'\n",
    "\n",
    "sat1Data = pd.read_csv(sat1Directory, delimiter=',', header=0)\n",
    "sat1Data['Time'] = pd.to_datetime(sat1Data['Time'], format='%Y-%m-%d %H:%M:%S')\n",
    "sat2Data = pd.read_csv(sat2Directory, delimiter=',', header=0)\n",
    "sat2Data['Time'] = pd.to_datetime(sat2Data['Time'], format='%Y-%m-%d %H:%M:%S')\n",
    "\n",
    "eventMetadata = pd.DataFrame(correlate(sat1Data, sat2Data, sat1Name, sat2Name, 'BX_GSE'), columns=['Start', 'Stop', 'P(Bx)', 'pOffset (Bx)', 'PD(Bx)', 'PDOffset (Bx)'])\n",
    "\n",
    "eventMetadata.to_csv('../metadata/{}.csv'.format('2013-01-17(test)'))"
   ],
   "metadata": {
    "collapsed": false
   }
  },
  {
   "cell_type": "code",
   "execution_count": 29,
   "outputs": [
    {
     "name": "stdout",
     "output_type": "stream",
     "text": [
      "All less than zero\n"
     ]
    }
   ],
   "source": [
    "list = [-1, -2, -3, -4, -5, -6, -7, -8, -9, -10]\n",
    "\n",
    "if all(l < 0 for l in list):\n",
    "    print(\"All less than zero\")\n",
    "else:\n",
    "    print(\"I am broken\")"
   ],
   "metadata": {
    "collapsed": false
   }
  },
  {
   "cell_type": "code",
   "execution_count": 66,
   "outputs": [
    {
     "name": "stdout",
     "output_type": "stream",
     "text": [
      "[-1, -2, -3, -4, -5, -6, -7, -8, -9, -10]\n",
      "[0, -2, -3, -4, -5, -6, -7, -8, -9, -10]\n",
      "-10\n"
     ]
    }
   ],
   "source": [
    "list = [-1, -2, -3, -4, -5, -6, -7, -8, -9, -10]\n",
    "print(list)\n",
    "list[0] = 0\n",
    "print(list)\n",
    "print(min(list))"
   ],
   "metadata": {
    "collapsed": false
   }
  },
  {
   "cell_type": "code",
   "execution_count": 69,
   "outputs": [
    {
     "name": "stdout",
     "output_type": "stream",
     "text": [
      "-10\n",
      "9\n"
     ]
    }
   ],
   "source": [
    "list = [-1, -2, -3, -4, -5, -6, -7, -8, -9, -10]\n",
    "print(max(list[1:], key=abs))\n",
    "print(list.index(max(list[1:], key=abs)))"
   ],
   "metadata": {
    "collapsed": false
   }
  },
  {
   "cell_type": "code",
   "execution_count": null,
   "outputs": [],
   "source": [],
   "metadata": {
    "collapsed": false
   }
  }
 ],
 "metadata": {
  "kernelspec": {
   "display_name": "Python 3",
   "language": "python",
   "name": "python3"
  },
  "language_info": {
   "codemirror_mode": {
    "name": "ipython",
    "version": 2
   },
   "file_extension": ".py",
   "mimetype": "text/x-python",
   "name": "python",
   "nbconvert_exporter": "python",
   "pygments_lexer": "ipython2",
   "version": "2.7.6"
  }
 },
 "nbformat": 4,
 "nbformat_minor": 0
}
