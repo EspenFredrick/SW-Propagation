{
 "cells": [
  {
   "cell_type": "markdown",
   "source": [
    "## Import lbraries\n",
    "---\n",
    "This cell calls the libraries needed for computation, for downloading the data, and for plotting it."
   ],
   "metadata": {
    "collapsed": false,
    "pycharm": {
     "name": "#%% md\n"
    }
   }
  },
  {
   "cell_type": "code",
   "execution_count": 1,
   "outputs": [],
   "source": [
    "# Numerical libraries:\n",
    "import numpy as np\n",
    "import pandas as pd\n",
    "from scipy import interpolate\n",
    "from scipy.optimize import curve_fit\n",
    "\n",
    "# File libraries:\n",
    "import csv\n",
    "\n",
    "#Pyspedas libraries:\n",
    "import pyspedas\n",
    "import pytplot\n",
    "from pytplot import del_data, get_data, get_timespan, store_data, tplot_options, tplot_names, tplot\n",
    "\n",
    "#For handling timestamps:\n",
    "import datetime as dt\n",
    "from datetime import timedelta\n",
    "\n",
    "#Plotting libraries:\n",
    "import matplotlib.pyplot as plt\n",
    "import matplotlib.dates as mdates\n",
    "from matplotlib import ticker"
   ],
   "metadata": {
    "collapsed": false,
    "pycharm": {
     "name": "#%%\n"
    }
   }
  },
  {
   "cell_type": "markdown",
   "source": [
    "## Import the list of events\n",
    "---\n",
    "This cell first opens the CSV file that contains the event list. It then creates a variable with the start times, stop times, and the probe to be used for each measurement."
   ],
   "metadata": {
    "collapsed": false,
    "pycharm": {
     "name": "#%% md\n"
    }
   }
  },
  {
   "cell_type": "code",
   "execution_count": 2,
   "outputs": [],
   "source": [
    "starts = []\n",
    "stops = []\n",
    "mms_probe = []\n",
    "themis_probe = []\n",
    "artemis_probe = []\n",
    "time_ranges = []\n",
    "\n",
    "with open('../eventlist/eventlist.csv', newline='') as events:\n",
    "    rows = csv.reader(events)\n",
    "    next(rows)\n",
    "    for r in rows:\n",
    "        starts.append(dt.datetime.strptime(r[0], '%Y-%m-%dT%H:%M:%S.%fZ'))\n",
    "        stops.append(dt.datetime.strptime(r[1], '%Y-%m-%dT%H:%M:%S.%fZ'))\n",
    "        #mms_probe.append(r[2])\n",
    "        themis_probe.append(str(r[3]))\n",
    "        artemis_probe.append(r[4])"
   ],
   "metadata": {
    "collapsed": false,
    "pycharm": {
     "name": "#%%\n"
    }
   }
  },
  {
   "cell_type": "markdown",
   "source": [
    "## Single-event analysis\n",
    "---\n",
    "The following cells perform the analysis for a single period of time. Please refer to the list of events for the correct index corresponding to the event you wish to analyze\n",
    "\n",
    "`omni_data_import` is the raw tplot object that gets loaded for the given time interval\n",
    "- `omni_data` is a DataFrame that compiles different variables about the given time interval. It is interpolated to remove NaN values and is strictured like this:\n",
    "| timestamp | Bx | By | Bz | Vx | Vy | Vz | n | T |\n",
    "\n",
    "`themis_fgm_data_import` and `themis_esa_data_import` are the raw tplot objects that get loaded for the given time interval\n",
    "- `themis_fgm` and `themis_esa` are DataFrames that contain different variables about the interval, structured as follows:\n",
    "| timestamp | Bx | By | Bz | (for the FGM)\n",
    "| timestamp | Vx | Vy | Vz | n | T | (for the ESA)\n",
    "- It is important to note that the timestamps are on different cadences for each.\n",
    "---"
   ],
   "metadata": {
    "collapsed": false,
    "pycharm": {
     "name": "#%% md\n"
    }
   }
  },
  {
   "cell_type": "code",
   "execution_count": 3,
   "outputs": [],
   "source": [
    "#-Choose input time range and spacecraft ID here:-----\n",
    "event = 13\n",
    "ID_t = themis_probe[event]\n",
    "ID_a = artemis_probe[event]\n",
    "#-----------------------------------------------------"
   ],
   "metadata": {
    "collapsed": false,
    "pycharm": {
     "name": "#%%\n"
    }
   }
  },
  {
   "cell_type": "markdown",
   "source": [
    "What this cell does:\n",
    "- Import the raw tplot variable between the specified start and stop times. Converts them to a string in the correct format to search. Get 1-minute, l2 data.\n",
    "- Create a DataFrame stacking the columns together for all the specified variables above\n",
    "- Interpolate any NaN values\n",
    "- Iterate over the times column and convert the strings to datetime objects\n",
    "- Name the column indices what they represent. Can call them by these names later."
   ],
   "metadata": {
    "collapsed": false,
    "pycharm": {
     "name": "#%% md\n"
    }
   }
  },
  {
   "cell_type": "code",
   "execution_count": 5,
   "outputs": [
    {
     "name": "stderr",
     "output_type": "stream",
     "text": [
      "24-Feb-23 14:36:03: Downloading remote index: https://spdf.gsfc.nasa.gov/pub/data/omni/omni_cdaweb/hro2_1min/2019/\n",
      "24-Feb-23 14:36:03: File is current: omni_data/hro2_1min/2019/omni_hro2_1min_20191101_v01.cdf\n",
      "24-Feb-23 14:36:04: Time clip was applied to: IMF\n",
      "24-Feb-23 14:36:04: Time clip was applied to: PLS\n",
      "24-Feb-23 14:36:04: Time clip was applied to: IMF_PTS\n",
      "24-Feb-23 14:36:04: Time clip was applied to: PLS_PTS\n",
      "24-Feb-23 14:36:04: Time clip was applied to: percent_interp\n",
      "24-Feb-23 14:36:04: Time clip was applied to: Timeshift\n",
      "24-Feb-23 14:36:04: Time clip was applied to: RMS_Timeshift\n",
      "24-Feb-23 14:36:04: Time clip was applied to: RMS_phase\n",
      "24-Feb-23 14:36:04: Time clip was applied to: Time_btwn_obs\n",
      "24-Feb-23 14:36:04: Time clip was applied to: F\n",
      "24-Feb-23 14:36:04: Time clip was applied to: BX_GSE\n",
      "24-Feb-23 14:36:04: Time clip was applied to: BY_GSE\n",
      "24-Feb-23 14:36:04: Time clip was applied to: BZ_GSE\n",
      "24-Feb-23 14:36:04: Time clip was applied to: BY_GSM\n",
      "24-Feb-23 14:36:04: Time clip was applied to: BZ_GSM\n",
      "24-Feb-23 14:36:04: Time clip was applied to: RMS_SD_B\n",
      "24-Feb-23 14:36:04: Time clip was applied to: RMS_SD_fld_vec\n",
      "24-Feb-23 14:36:04: Time clip was applied to: flow_speed\n",
      "24-Feb-23 14:36:04: Time clip was applied to: Vx\n",
      "24-Feb-23 14:36:04: Time clip was applied to: Vy\n",
      "24-Feb-23 14:36:05: Time clip was applied to: Vz\n",
      "24-Feb-23 14:36:05: Time clip was applied to: proton_density\n",
      "24-Feb-23 14:36:05: Time clip was applied to: T\n",
      "24-Feb-23 14:36:05: Time clip was applied to: NaNp_Ratio\n",
      "24-Feb-23 14:36:05: Time clip was applied to: Pressure\n",
      "24-Feb-23 14:36:05: Time clip was applied to: E\n",
      "24-Feb-23 14:36:05: Time clip was applied to: Beta\n",
      "24-Feb-23 14:36:05: Time clip was applied to: Mach_num\n",
      "24-Feb-23 14:36:05: Time clip was applied to: Mgs_mach_num\n",
      "24-Feb-23 14:36:05: Time clip was applied to: x\n",
      "24-Feb-23 14:36:05: Time clip was applied to: y\n",
      "24-Feb-23 14:36:05: Time clip was applied to: z\n",
      "24-Feb-23 14:36:05: Time clip was applied to: BSN_x\n",
      "24-Feb-23 14:36:05: Time clip was applied to: BSN_y\n",
      "24-Feb-23 14:36:05: Time clip was applied to: BSN_z\n",
      "24-Feb-23 14:36:05: Time clip was applied to: AE_INDEX\n",
      "24-Feb-23 14:36:05: Time clip was applied to: AL_INDEX\n",
      "24-Feb-23 14:36:05: Time clip was applied to: AU_INDEX\n",
      "24-Feb-23 14:36:05: Time clip was applied to: SYM_D\n",
      "24-Feb-23 14:36:05: Time clip was applied to: SYM_H\n",
      "24-Feb-23 14:36:05: Time clip was applied to: ASY_D\n",
      "24-Feb-23 14:36:05: Time clip was applied to: ASY_H\n"
     ]
    }
   ],
   "source": [
    "omni_data_import = pyspedas.omni.data(trange=[(starts[event]+timedelta(minutes=30)).strftime('%Y-%m-%d/%H:%M:%S'),stops[event].strftime('%Y-%m-%d/%H:%M:%S')], datatype='1min', level='hro2', time_clip=True)\n",
    "omni_data = pd.DataFrame(np.column_stack((get_data('IMF')[0], get_data('BX_GSE')[1], get_data('BY_GSE')[1], get_data('BZ_GSE')[1], get_data('Vx')[1], get_data('Vy')[1], get_data('Vz')[1], get_data('proton_density')[1], get_data('T')[1])));\n",
    "omni_data[[1,2,3,4,5,6,7,8]].interpolate(method='linear');\n",
    "\n",
    "for i in range(len(omni_data[0])):\n",
    "    omni_data[0][i] = dt.datetime.utcfromtimestamp(omni_data[0][i])\n",
    "\n",
    "omni_data.columns = ['time', 'bx', 'by', 'bz', 'vx', 'vy', 'vz', 'n', 'T']"
   ],
   "metadata": {
    "collapsed": false,
    "pycharm": {
     "name": "#%%\n"
    }
   }
  },
  {
   "cell_type": "markdown",
   "source": [
    "What this cell does:\n",
    "- Import the raw FGM data between the start and stop times, but make the start time 30 minutes later than that of OMNI. This lets us slide our data around a bit.\n",
    "- Import the raw ESA data just like above."
   ],
   "metadata": {
    "collapsed": false,
    "pycharm": {
     "name": "#%% md\n"
    }
   }
  },
  {
   "cell_type": "code",
   "execution_count": 6,
   "outputs": [
    {
     "name": "stderr",
     "output_type": "stream",
     "text": [
      "24-Feb-23 14:36:08: Downloading remote index: http://themis.ssl.berkeley.edu/data/themis/thd/l2/fgm/2019/\n",
      "24-Feb-23 14:36:08: File is current: themis_data/thd/l2/fgm/2019/thd_l2_fgm_20191127_v01.cdf\n",
      "24-Feb-23 14:36:08: Time clip was applied to: thd_fgs_gse\n",
      "24-Feb-23 14:36:08: Downloading remote index: http://themis.ssl.berkeley.edu/data/themis/thd/l2/esa/2019/\n",
      "24-Feb-23 14:36:09: File is current: themis_data/thd/l2/esa/2019/thd_l2_esa_20191127_v01.cdf\n",
      "24-Feb-23 14:36:09: Time clip was applied to: thd_peif_density\n",
      "24-Feb-23 14:36:09: Time clip was applied to: thd_peif_avgtemp\n",
      "24-Feb-23 14:36:09: Time clip was applied to: thd_peif_velocity_gse\n",
      "24-Feb-23 14:36:09: Downloading remote index: http://themis.ssl.berkeley.edu/data/themis/thb/l2/fgm/2019/\n",
      "24-Feb-23 14:36:09: File is current: themis_data/thb/l2/fgm/2019/thb_l2_fgm_20191127_v01.cdf\n",
      "24-Feb-23 14:36:09: Time clip was applied to: thb_fgs_gse\n",
      "24-Feb-23 14:36:09: Downloading remote index: http://themis.ssl.berkeley.edu/data/themis/thb/l2/esa/2019/\n",
      "24-Feb-23 14:36:09: File is current: themis_data/thb/l2/esa/2019/thb_l2_esa_20191127_v01.cdf\n",
      "24-Feb-23 14:36:10: Time clip was applied to: thb_peif_density\n",
      "24-Feb-23 14:36:10: Time clip was applied to: thb_peif_avgtemp\n",
      "24-Feb-23 14:36:10: Time clip was applied to: thb_peif_velocity_gse\n"
     ]
    }
   ],
   "source": [
    "themis_fgm_data_import = pyspedas.themis.fgm(trange=[(starts[event]+timedelta(minutes=30)).strftime('%Y-%m-%d/%H:%M:%S'),stops[event].strftime('%Y-%m-%d/%H:%M:%S')], probe=themis_probe[event], varnames='th'+ID_t+'_fgs_gse', time_clip=True)\n",
    "themis_esa_data_import = pyspedas.themis.esa(trange=[(starts[event]+timedelta(minutes=30)).strftime('%Y-%m-%d/%H:%M:%S'),stops[event].strftime('%Y-%m-%d/%H:%M:%S')], probe=themis_probe[event], varnames=['th'+ID_t+'_peif_density', 'th'+ID_t+'_peif_avgtemp', 'th'+ID_t+'_peif_velocity_gse'], time_clip=True)\n",
    "\n",
    "artemis_fgm_data_import = pyspedas.themis.fgm(trange=[starts[event].strftime('%Y-%m-%d/%H:%M:%S'),stops[event].strftime('%Y-%m-%d/%H:%M:%S')], probe=artemis_probe[event], varnames='th'+ID_a+'_fgs_gse', time_clip=True)\n",
    "artemis_esa_data_import = pyspedas.themis.esa(trange=[(starts[event]+timedelta(minutes=30)).strftime('%Y-%m-%d/%H:%M:%S'),stops[event].strftime('%Y-%m-%d/%H:%M:%S')], probe=artemis_probe[event], varnames=['th'+ID_a+'_peif_density', 'th'+ID_a+'_peif_avgtemp', 'th'+ID_a+'_peif_velocity_gse'], time_clip=True)"
   ],
   "metadata": {
    "collapsed": false,
    "pycharm": {
     "name": "#%%\n"
    }
   }
  },
  {
   "cell_type": "markdown",
   "source": [
    "What this cell does:\n",
    "- Create a DataFrame by stacking the FGM columns together, first time and then the magnetometer readings\n",
    "- Create a DataFrame by stacking the ESA columns together, first time and then velocity, density, and temperature\n",
    "- Iterate iver the time strings and create datetime objects out of them"
   ],
   "metadata": {
    "collapsed": false,
    "pycharm": {
     "name": "#%% md\n"
    }
   }
  },
  {
   "cell_type": "code",
   "execution_count": 7,
   "outputs": [],
   "source": [
    "themis_fgm = pd.DataFrame(np.column_stack((get_data('th'+ID_t+'_fgs_gse')[0], get_data('th'+ID_t+'_fgs_gse')[1])))\n",
    "themis_esa = pd.DataFrame(np.column_stack((get_data('th'+ID_t+'_peif_velocity_gse')[0], get_data('th'+ID_t+'_peif_velocity_gse')[1], get_data('th'+ID_t+'_peif_density')[1], get_data('th'+ID_t+'_peif_avgtemp')[1])))\n",
    "\n",
    "for i in range(len(themis_fgm[0])):\n",
    "    themis_fgm[0][i] = dt.datetime.utcfromtimestamp(themis_fgm[0][i])\n",
    "for j in range(len(themis_esa[0])):\n",
    "    themis_esa[0][j] = dt.datetime.utcfromtimestamp(themis_esa[0][j])\n",
    "\n",
    "artemis_fgm = pd.DataFrame(np.column_stack((get_data('th'+ID_a+'_fgs_gse')[0], get_data('th'+ID_a+'_fgs_gse')[1])))\n",
    "artemis_esa = pd.DataFrame(np.column_stack((get_data('th'+ID_a+'_peif_velocity_gse')[0], get_data('th'+ID_a+'_peif_velocity_gse')[1], get_data('th'+ID_a+'_peif_density')[1], get_data('th'+ID_a+'_peif_avgtemp')[1])))\n",
    "\n",
    "for i in range(len(artemis_fgm[0])):\n",
    "    artemis_fgm[0][i] = dt.datetime.utcfromtimestamp(artemis_fgm[0][i])\n",
    "for j in range(len(artemis_esa[0])):\n",
    "    artemis_esa[0][j] = dt.datetime.utcfromtimestamp(artemis_esa[0][j])"
   ],
   "metadata": {
    "collapsed": false,
    "pycharm": {
     "name": "#%%\n"
    }
   }
  },
  {
   "cell_type": "markdown",
   "source": [
    "What this cell does:\n",
    "- Defines the function for averaging the THEMIS data"
   ],
   "metadata": {
    "collapsed": false,
    "pycharm": {
     "name": "#%% md\n"
    }
   }
  },
  {
   "cell_type": "code",
   "execution_count": 19,
   "outputs": [],
   "source": [
    "def average(times, data):\n",
    "    minute = times[0].minute # Set the current first minute of the data set\n",
    "    timeAvgs = [] # Create empty array to store the time-averaged values\n",
    "    avgArr = [] # Create empty storage array\n",
    "    timeStep = [] # Create empty time step array\n",
    "    for i in range(len(times)): # Index the values\n",
    "        if times[i].minute == minute: # If the time of the next value equals the one set for the minute\n",
    "            avgArr.append(data[i]) # Append this to the storage array\n",
    "        elif times[i].minute == minute + 1: # If the time of the next value equals the next minute\n",
    "            #print(avgArr)\n",
    "            timeAvgs.append(np.average(avgArr)) # Average the storage array and append it to the time-averaged value array\n",
    "            #print(np.average(avgArr))\n",
    "            timeStep.append(dt.datetime(times[i-1].year, times[i-1].month, times[i-1].day, times[i-1].hour, times[i-1].minute, 00)) # Create a timestamp for the previous minute centered at 0s to line up with the orbit timestamps\n",
    "            minute= times[i].minute # Set the new current minute to start averaging over\n",
    "            avgArr = [] # Clear the storage array\n",
    "        elif times[i].minute == minute - 59: # This is for rollover: when the next minute is 0\n",
    "            #print(avgArr)\n",
    "            timeAvgs.append(np.average(avgArr))\n",
    "            #print(np.average(avgArr))\n",
    "            timeStep.append(dt.datetime(times[i-1].year, times[i-1].month, times[i-1].day, times[i-1].hour, times[i-1].minute, 00))\n",
    "            minute = times[i].minute\n",
    "            avgArr = []\n",
    "    return [timeStep, timeAvgs] # Return the time-averaged array and the timestamp array"
   ],
   "metadata": {
    "collapsed": false,
    "pycharm": {
     "name": "#%%\n"
    }
   }
  },
  {
   "cell_type": "markdown",
   "source": [
    "What this cell does:\n",
    "- Concatenates the averaged 1-minute time, Bx, By, and Bz data into one DataFrame\n",
    "- Renames the columns to their respective representations, like with the OMNI columns"
   ],
   "metadata": {
    "collapsed": false,
    "pycharm": {
     "name": "#%% md\n"
    }
   }
  },
  {
   "cell_type": "code",
   "execution_count": 40,
   "outputs": [],
   "source": [
    "themis_fgm_1min = pd.DataFrame(np.column_stack((average(themis_fgm[0], themis_fgm[1])[0], average(themis_fgm[0], themis_fgm[1])[1], average(themis_fgm[0], themis_fgm[2])[1], average(themis_fgm[0], themis_fgm[3])[1]))).astype('object')\n",
    "themis_fgm_1min.columns = ['time', 'bx', 'by', 'bz']\n",
    "\n",
    "artemis_fgm_1min = pd.DataFrame(np.column_stack((average(artemis_fgm[0], artemis_fgm[1])[0], average(artemis_fgm[0], artemis_fgm[1])[1], average(artemis_fgm[0], artemis_fgm[2])[1], average(artemis_fgm[0], artemis_fgm[3])[1]))).astype('object')\n",
    "artemis_fgm_1min.columns = ['time', 'bx', 'by', 'bz']\n",
    "\n",
    "#themis_fgm_1min['time'] = themis_fgm_1min['time'].dt.to_pydatetime()\n",
    "for i in range(len(themis_fgm_1min['time'])):\n",
    "    themis_fgm_1min['time'][i] = themis_fgm_1min['time'][i].to_pydatetime()\n",
    "for j in range(len(artemis_fgm_1min['time'])):\n",
    "    artemis_fgm_1min['time'][j] = artemis_fgm_1min['time'][j].to_pydatetime()"
   ],
   "metadata": {
    "collapsed": false,
    "pycharm": {
     "name": "#%%\n"
    }
   }
  },
  {
   "cell_type": "markdown",
   "source": [
    "## Calculate correlation coefficients\n",
    "---"
   ],
   "metadata": {
    "collapsed": false,
    "pycharm": {
     "name": "#%% md\n"
    }
   }
  },
  {
   "cell_type": "code",
   "execution_count": 43,
   "outputs": [],
   "source": [
    "def calculate_corrs(series_fixed, series_fixed_t, series2, series2T): # Series 1 is the \"fixed\" series close to Earth, Series 2 is the one we slide\n",
    "    c=[] # Define a matrix to store correlation coefficient\n",
    "    for j in range(len(series_fixed_t) - 59): # Range for the length of the fixed series minus one hour\n",
    "        a = [] # Temporary storage array\n",
    "        n2_start = series2T.index(series_fixed_t[j])\n",
    "        n2_stop = series2T.index(series_fixed_t[j+59])\n",
    "        for i in range(30):\n",
    "            coef = np.corrcoef(series_fixed[j:j+59], series2[n2_start-i:n2_stop-i], 1)[0, 1]\n",
    "            if coef < 0:\n",
    "                coef = 0\n",
    "            a.append(coef)\n",
    "        c.append(a)\n",
    "    return np.column_stack(([j], [j+59], c))"
   ],
   "metadata": {
    "collapsed": false,
    "pycharm": {
     "name": "#%%\n"
    }
   }
  },
  {
   "cell_type": "code",
   "execution_count": 31,
   "outputs": [
    {
     "data": {
      "text/plain": "datetime.datetime(2019, 11, 27, 13, 31)"
     },
     "execution_count": 31,
     "metadata": {},
     "output_type": "execute_result"
    }
   ],
   "source": [
    "omni_data['time'][1]"
   ],
   "metadata": {
    "collapsed": false,
    "pycharm": {
     "name": "#%%\n"
    }
   }
  },
  {
   "cell_type": "code",
   "execution_count": 80,
   "outputs": [
    {
     "data": {
      "text/plain": "Timestamp('2019-11-27 13:01:00')"
     },
     "execution_count": 80,
     "metadata": {},
     "output_type": "execute_result"
    }
   ],
   "source": [
    "artemis_fgm_1min['time'][1]"
   ],
   "metadata": {
    "collapsed": false,
    "pycharm": {
     "name": "#%%\n"
    }
   }
  },
  {
   "cell_type": "code",
   "execution_count": 44,
   "outputs": [
    {
     "ename": "TypeError",
     "evalue": "'RangeIndex' object is not callable",
     "output_type": "error",
     "traceback": [
      "\u001B[0;31m---------------------------------------------------------------------------\u001B[0m",
      "\u001B[0;31mTypeError\u001B[0m                                 Traceback (most recent call last)",
      "Cell \u001B[0;32mIn [44], line 1\u001B[0m\n\u001B[0;32m----> 1\u001B[0m a \u001B[38;5;241m=\u001B[39m \u001B[43mcalculate_corrs\u001B[49m\u001B[43m(\u001B[49m\u001B[43momni_data\u001B[49m\u001B[43m[\u001B[49m\u001B[38;5;124;43m'\u001B[39;49m\u001B[38;5;124;43mbx\u001B[39;49m\u001B[38;5;124;43m'\u001B[39;49m\u001B[43m]\u001B[49m\u001B[43m,\u001B[49m\u001B[43m \u001B[49m\u001B[43momni_data\u001B[49m\u001B[43m[\u001B[49m\u001B[38;5;124;43m'\u001B[39;49m\u001B[38;5;124;43mtime\u001B[39;49m\u001B[38;5;124;43m'\u001B[39;49m\u001B[43m]\u001B[49m\u001B[43m,\u001B[49m\u001B[43m \u001B[49m\u001B[43martemis_fgm_1min\u001B[49m\u001B[43m[\u001B[49m\u001B[38;5;124;43m'\u001B[39;49m\u001B[38;5;124;43mbx\u001B[39;49m\u001B[38;5;124;43m'\u001B[39;49m\u001B[43m]\u001B[49m\u001B[43m,\u001B[49m\u001B[43m \u001B[49m\u001B[43martemis_fgm_1min\u001B[49m\u001B[43m[\u001B[49m\u001B[38;5;124;43m'\u001B[39;49m\u001B[38;5;124;43mtime\u001B[39;49m\u001B[38;5;124;43m'\u001B[39;49m\u001B[43m]\u001B[49m\u001B[43m)\u001B[49m\n",
      "Cell \u001B[0;32mIn [43], line 5\u001B[0m, in \u001B[0;36mcalculate_corrs\u001B[0;34m(series1, series1T, series2, series2T)\u001B[0m\n\u001B[1;32m      3\u001B[0m \u001B[38;5;28;01mfor\u001B[39;00m j \u001B[38;5;129;01min\u001B[39;00m \u001B[38;5;28mrange\u001B[39m(\u001B[38;5;28mlen\u001B[39m(series1T) \u001B[38;5;241m-\u001B[39m \u001B[38;5;241m59\u001B[39m): \u001B[38;5;66;03m# Range for the length of the fixed series minus one hour\u001B[39;00m\n\u001B[1;32m      4\u001B[0m     a \u001B[38;5;241m=\u001B[39m [] \u001B[38;5;66;03m# Temporary storage array\u001B[39;00m\n\u001B[0;32m----> 5\u001B[0m     n2_start \u001B[38;5;241m=\u001B[39m \u001B[43mseries2T\u001B[49m\u001B[38;5;241;43m.\u001B[39;49m\u001B[43mindex\u001B[49m\u001B[43m(\u001B[49m\u001B[43mseries1T\u001B[49m\u001B[43m[\u001B[49m\u001B[43mj\u001B[49m\u001B[43m]\u001B[49m\u001B[43m)\u001B[49m\n\u001B[1;32m      6\u001B[0m     n2_stop \u001B[38;5;241m=\u001B[39m series2T\u001B[38;5;241m.\u001B[39mindex(series1T[j\u001B[38;5;241m+\u001B[39m\u001B[38;5;241m59\u001B[39m])\n\u001B[1;32m      7\u001B[0m     \u001B[38;5;28;01mfor\u001B[39;00m i \u001B[38;5;129;01min\u001B[39;00m \u001B[38;5;28mrange\u001B[39m(\u001B[38;5;241m30\u001B[39m):\n",
      "\u001B[0;31mTypeError\u001B[0m: 'RangeIndex' object is not callable"
     ]
    }
   ],
   "source": [
    "a = calculate_corrs(omni_data['bx'], omni_data['time'], artemis_fgm_1min['bx'], artemis_fgm_1min['time'])"
   ],
   "metadata": {
    "collapsed": false,
    "pycharm": {
     "name": "#%%\n"
    }
   }
  },
  {
   "cell_type": "code",
   "execution_count": null,
   "outputs": [],
   "source": [
    "corrs = {\n",
    "    'artemis-omni': {\n",
    "        for i in range\n",
    "        'bx': calculate_corrs(omni_data['bx'], omni_data['time'], artemis_fgm_1min['bx'], artemis_fgm_1min['time'])\n",
    "\n",
    "    }\n",
    "    'artemis-themis': {}\n",
    "    'artemis-mms': {}\n",
    "    'themis-omni': {}\n",
    "    'mms-omni': {}\n",
    "\n",
    "}"
   ],
   "metadata": {
    "collapsed": false,
    "pycharm": {
     "name": "#%%\n"
    }
   }
  },
  {
   "cell_type": "code",
   "execution_count": null,
   "outputs": [],
   "source": [],
   "metadata": {
    "collapsed": false,
    "pycharm": {
     "name": "#%%\n"
    }
   }
  },
  {
   "cell_type": "code",
   "execution_count": null,
   "outputs": [],
   "source": [],
   "metadata": {
    "collapsed": false,
    "pycharm": {
     "name": "#%%\n"
    }
   }
  },
  {
   "cell_type": "code",
   "execution_count": null,
   "outputs": [],
   "source": [],
   "metadata": {
    "collapsed": false,
    "pycharm": {
     "name": "#%%\n"
    }
   }
  },
  {
   "cell_type": "markdown",
   "source": [
    "## Multi-even analysis\n",
    "---\n",
    "Stuff"
   ],
   "metadata": {
    "collapsed": false,
    "pycharm": {
     "name": "#%% md\n"
    }
   }
  },
  {
   "cell_type": "code",
   "execution_count": null,
   "outputs": [],
   "source": [
    "themis_fgm_data = {}\n",
    "keys = range(len(time_ranges))\n",
    "for i in keys:\n",
    "    themis_fgm_data[i] = get_data(pyspedas.themis.fgm(trange=time_ranges[i], probe=themis_probe[i])[2])"
   ],
   "metadata": {
    "collapsed": false,
    "pycharm": {
     "name": "#%%\n"
    }
   }
  },
  {
   "cell_type": "code",
   "execution_count": 92,
   "outputs": [
    {
     "data": {
      "text/plain": "array([1.31941472e+09, 1.31941473e+09, 1.31941473e+09, ...,\n       1.31950083e+09, 1.31950084e+09, 1.31950084e+09])"
     },
     "execution_count": 92,
     "metadata": {},
     "output_type": "execute_result"
    }
   ],
   "source": [
    "themis_fgm_times = {}\n",
    "themis_fgm_fields = {}\n",
    "keys = range(len(themis_fgm_data[0][0]))\n",
    "\n",
    "for i in keys:\n",
    "    themis_fgm_times[i] = [themis_timestamps.append(dt.datetime.utcfromtimestamp(themis_fgm_data[0][j])) for j in range(len(themis_fgm_data[0]))]"
   ],
   "metadata": {
    "collapsed": false,
    "pycharm": {
     "name": "#%%\n"
    }
   }
  },
  {
   "cell_type": "code",
   "execution_count": 82,
   "outputs": [
    {
     "name": "stderr",
     "output_type": "stream",
     "text": [
      "21-Feb-23 11:01:02: Downloading remote index: http://themis.ssl.berkeley.edu/data/themis/thd/l2/fgm/2011/\n",
      "21-Feb-23 11:01:03: File is current: themis_data/thd/l2/fgm/2011/thd_l2_fgm_20111024_v01.cdf\n"
     ]
    }
   ],
   "source": [
    "\n",
    "themis_timestamps=[]\n",
    "\n",
    "\n",
    "themis_fields = themis_fgm_data[1]"
   ],
   "metadata": {
    "collapsed": false,
    "pycharm": {
     "name": "#%%\n"
    }
   }
  },
  {
   "cell_type": "code",
   "execution_count": null,
   "outputs": [],
   "source": [],
   "metadata": {
    "collapsed": false,
    "pycharm": {
     "name": "#%%\n"
    }
   }
  }
 ],
 "metadata": {
  "kernelspec": {
   "display_name": "Python 3",
   "language": "python",
   "name": "python3"
  },
  "language_info": {
   "codemirror_mode": {
    "name": "ipython",
    "version": 2
   },
   "file_extension": ".py",
   "mimetype": "text/x-python",
   "name": "python",
   "nbconvert_exporter": "python",
   "pygments_lexer": "ipython2",
   "version": "2.7.6"
  }
 },
 "nbformat": 4,
 "nbformat_minor": 0
}