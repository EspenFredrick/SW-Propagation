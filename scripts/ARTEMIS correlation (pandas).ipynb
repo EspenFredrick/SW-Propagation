{
 "cells": [
  {
   "cell_type": "code",
   "execution_count": 1,
   "metadata": {
    "collapsed": true,
    "pycharm": {
     "name": "#%%\n"
    }
   },
   "outputs": [],
   "source": [
    "import numpy as np\n",
    "import datetime as dt\n",
    "import pandas as pd\n",
    "import pyspedas\n",
    "from pytplot import del_data, get_data, get_timespan, store_data, tplot_options, tplot_names, tplot, tplot_math"
   ]
  },
  {
   "cell_type": "code",
   "execution_count": 66,
   "outputs": [],
   "source": [
    "def get_omni(start, stop, fixed):\n",
    "    if fixed:\n",
    "        start = start+dt.timedelta(minutes=30)\n",
    "\n",
    "    trange = [start.strftime(\"%Y-%m-%d/%H:%M:%S\"), stop.strftime(\"%Y-%m-%d/%H:%M:%S\")] #Timeseries should be in the format [pd.Timestamp, pd.Timestamp]\n",
    "    print(trange)\n",
    "    variables = ['BX_GSE', 'BY_GSE', 'BZ_GSE', 'Vx', 'Vy', 'Vz', 'proton_density', 'T']\n",
    "\n",
    "    omni_import = pyspedas.omni.data(trange=trange, datatype='1min', level='hro2', time_clip=True)\n",
    "    for n in variables:\n",
    "        tplot_math.interp_nan(n)\n",
    "    omni_data = pd.DataFrame([get_data('IMF')[0], get_data('BX_GSE')[1], get_data('BY_GSE')[1], get_data('BZ_GSE')[1], get_data('Vx')[1], get_data('Vy')[1], get_data('Vz')[1], get_data('proton_density')[1], get_data('T')[1]]).transpose()\n",
    "    omni_data.columns = ['Time', 'BX_GSE', 'BY_GSE', 'BZ_GSE', 'Vx', 'Vy', 'Vz', 'proton_density', 'T']\n",
    "    omni_data['Time'] = pd.to_datetime(omni_data['Time'], unit='s')\n",
    "\n",
    "    return omni_data"
   ],
   "metadata": {
    "collapsed": false,
    "pycharm": {
     "name": "#%%\n"
    }
   }
  },
  {
   "cell_type": "code",
   "execution_count": 67,
   "outputs": [],
   "source": [
    "def import_events(path, satellite1, satellite2): # Function to import the data from a satellite to compare with Artemis: either OMNI, THEMIS, or MMS\n",
    "    events = pd.read_csv(path, delimiter=',', header=0)\n",
    "    events['time_start'] = pd.to_datetime(events['time_start'])\n",
    "    events['time_stop'] = pd.to_datetime(events['time_stop'])\n",
    "\n",
    "    if satellite2 == 'omni':\n",
    "        sat2_data = get_omni(events['time_start'][0], events['time_stop'][0], fixed=True)\n",
    "\n",
    "\n",
    "    return sat2_data"
   ],
   "metadata": {
    "collapsed": false,
    "pycharm": {
     "name": "#%%\n"
    }
   }
  },
  {
   "cell_type": "code",
   "execution_count": 68,
   "outputs": [
    {
     "name": "stderr",
     "output_type": "stream",
     "text": [
      "07-Mar-23 16:07:35: Downloading remote index: https://spdf.gsfc.nasa.gov/pub/data/omni/omni_cdaweb/hro2_1min/2011/\n"
     ]
    },
    {
     "name": "stdout",
     "output_type": "stream",
     "text": [
      "['2011-10-24/18:40:00', '2011-10-24/23:30:00']\n"
     ]
    },
    {
     "name": "stderr",
     "output_type": "stream",
     "text": [
      "07-Mar-23 16:07:35: File is current: omni_data/hro2_1min/2011/omni_hro2_1min_20111001_v01.cdf\n",
      "07-Mar-23 16:07:36: Time clip was applied to: IMF\n",
      "07-Mar-23 16:07:36: Time clip was applied to: PLS\n",
      "07-Mar-23 16:07:36: Time clip was applied to: IMF_PTS\n",
      "07-Mar-23 16:07:36: Time clip was applied to: PLS_PTS\n",
      "07-Mar-23 16:07:36: Time clip was applied to: percent_interp\n",
      "07-Mar-23 16:07:36: Time clip was applied to: Timeshift\n",
      "07-Mar-23 16:07:36: Time clip was applied to: RMS_Timeshift\n",
      "07-Mar-23 16:07:36: Time clip was applied to: RMS_phase\n",
      "07-Mar-23 16:07:36: Time clip was applied to: Time_btwn_obs\n",
      "07-Mar-23 16:07:36: Time clip was applied to: F\n",
      "07-Mar-23 16:07:36: Time clip was applied to: BX_GSE\n",
      "07-Mar-23 16:07:36: Time clip was applied to: BY_GSE\n",
      "07-Mar-23 16:07:36: Time clip was applied to: BZ_GSE\n",
      "07-Mar-23 16:07:36: Time clip was applied to: BY_GSM\n",
      "07-Mar-23 16:07:36: Time clip was applied to: BZ_GSM\n",
      "07-Mar-23 16:07:36: Time clip was applied to: RMS_SD_B\n",
      "07-Mar-23 16:07:36: Time clip was applied to: RMS_SD_fld_vec\n",
      "07-Mar-23 16:07:36: Time clip was applied to: flow_speed\n",
      "07-Mar-23 16:07:36: Time clip was applied to: Vx\n",
      "07-Mar-23 16:07:36: Time clip was applied to: Vy\n",
      "07-Mar-23 16:07:36: Time clip was applied to: Vz\n",
      "07-Mar-23 16:07:36: Time clip was applied to: proton_density\n",
      "07-Mar-23 16:07:36: Time clip was applied to: T\n",
      "07-Mar-23 16:07:36: Time clip was applied to: NaNp_Ratio\n",
      "07-Mar-23 16:07:36: Time clip was applied to: Pressure\n",
      "07-Mar-23 16:07:36: Time clip was applied to: E\n",
      "07-Mar-23 16:07:36: Time clip was applied to: Beta\n",
      "07-Mar-23 16:07:36: Time clip was applied to: Mach_num\n",
      "07-Mar-23 16:07:36: Time clip was applied to: Mgs_mach_num\n",
      "07-Mar-23 16:07:36: Time clip was applied to: x\n",
      "07-Mar-23 16:07:36: Time clip was applied to: y\n",
      "07-Mar-23 16:07:36: Time clip was applied to: z\n",
      "07-Mar-23 16:07:36: Time clip was applied to: BSN_x\n",
      "07-Mar-23 16:07:36: Time clip was applied to: BSN_y\n",
      "07-Mar-23 16:07:36: Time clip was applied to: BSN_z\n",
      "07-Mar-23 16:07:36: Time clip was applied to: AE_INDEX\n",
      "07-Mar-23 16:07:36: Time clip was applied to: AL_INDEX\n",
      "07-Mar-23 16:07:36: Time clip was applied to: AU_INDEX\n",
      "07-Mar-23 16:07:36: Time clip was applied to: SYM_D\n",
      "07-Mar-23 16:07:36: Time clip was applied to: SYM_H\n",
      "07-Mar-23 16:07:36: Time clip was applied to: ASY_D\n",
      "07-Mar-23 16:07:36: Time clip was applied to: ASY_H\n"
     ]
    }
   ],
   "source": [
    "data = import_events('../eventlist/eventlist.csv', 'themis', 'omni')"
   ],
   "metadata": {
    "collapsed": false,
    "pycharm": {
     "name": "#%%\n"
    }
   }
  },
  {
   "cell_type": "code",
   "execution_count": 69,
   "outputs": [
    {
     "data": {
      "text/plain": "                   Time  BX_GSE     BY_GSE  BZ_GSE          Vx         Vy  \\\n0   2011-10-24 18:40:00    3.37  -3.490000   -6.83 -386.399994  -1.600000   \n1   2011-10-24 18:41:00    2.40  -0.950000   -8.42 -350.799988  -4.500000   \n2   2011-10-24 18:42:00    2.30  -0.960000   -6.63 -374.500000  -4.300000   \n3   2011-10-24 18:43:00    3.76  -7.450000   -7.60 -487.299988  -5.400000   \n4   2011-10-24 18:44:00    2.65  -8.260000    0.04 -449.100006 -10.700000   \n..                  ...     ...        ...     ...         ...        ...   \n286 2011-10-24 23:26:00    8.33  14.400000   -5.78 -491.600006  58.099998   \n287 2011-10-24 23:27:00    7.30  15.120000   -6.75 -500.700012  57.599998   \n288 2011-10-24 23:28:00    4.79  16.280001   -4.67 -502.299988  60.200001   \n289 2011-10-24 23:29:00    6.82  15.300000   -5.39 -503.600006  62.299999   \n290 2011-10-24 23:30:00    7.79  14.690000   -7.07 -499.899994  59.200001   \n\n            Vz  proton_density         T  \n0   -15.000000       17.299999  138819.0  \n1    -0.600000        9.840000  103815.0  \n2    -7.900000       12.050000  138498.0  \n3   -34.700001       28.520000  341575.0  \n4    -9.100000       22.209999  298829.0  \n..         ...             ...       ...  \n286 -30.400000       25.840000  212031.0  \n287 -32.400002       24.250000  200028.0  \n288 -25.400000       24.379999  188880.0  \n289 -19.700001       24.490000  179700.0  \n290 -25.700001       24.910000  174463.0  \n\n[291 rows x 9 columns]",
      "text/html": "<div>\n<style scoped>\n    .dataframe tbody tr th:only-of-type {\n        vertical-align: middle;\n    }\n\n    .dataframe tbody tr th {\n        vertical-align: top;\n    }\n\n    .dataframe thead th {\n        text-align: right;\n    }\n</style>\n<table border=\"1\" class=\"dataframe\">\n  <thead>\n    <tr style=\"text-align: right;\">\n      <th></th>\n      <th>Time</th>\n      <th>BX_GSE</th>\n      <th>BY_GSE</th>\n      <th>BZ_GSE</th>\n      <th>Vx</th>\n      <th>Vy</th>\n      <th>Vz</th>\n      <th>proton_density</th>\n      <th>T</th>\n    </tr>\n  </thead>\n  <tbody>\n    <tr>\n      <th>0</th>\n      <td>2011-10-24 18:40:00</td>\n      <td>3.37</td>\n      <td>-3.490000</td>\n      <td>-6.83</td>\n      <td>-386.399994</td>\n      <td>-1.600000</td>\n      <td>-15.000000</td>\n      <td>17.299999</td>\n      <td>138819.0</td>\n    </tr>\n    <tr>\n      <th>1</th>\n      <td>2011-10-24 18:41:00</td>\n      <td>2.40</td>\n      <td>-0.950000</td>\n      <td>-8.42</td>\n      <td>-350.799988</td>\n      <td>-4.500000</td>\n      <td>-0.600000</td>\n      <td>9.840000</td>\n      <td>103815.0</td>\n    </tr>\n    <tr>\n      <th>2</th>\n      <td>2011-10-24 18:42:00</td>\n      <td>2.30</td>\n      <td>-0.960000</td>\n      <td>-6.63</td>\n      <td>-374.500000</td>\n      <td>-4.300000</td>\n      <td>-7.900000</td>\n      <td>12.050000</td>\n      <td>138498.0</td>\n    </tr>\n    <tr>\n      <th>3</th>\n      <td>2011-10-24 18:43:00</td>\n      <td>3.76</td>\n      <td>-7.450000</td>\n      <td>-7.60</td>\n      <td>-487.299988</td>\n      <td>-5.400000</td>\n      <td>-34.700001</td>\n      <td>28.520000</td>\n      <td>341575.0</td>\n    </tr>\n    <tr>\n      <th>4</th>\n      <td>2011-10-24 18:44:00</td>\n      <td>2.65</td>\n      <td>-8.260000</td>\n      <td>0.04</td>\n      <td>-449.100006</td>\n      <td>-10.700000</td>\n      <td>-9.100000</td>\n      <td>22.209999</td>\n      <td>298829.0</td>\n    </tr>\n    <tr>\n      <th>...</th>\n      <td>...</td>\n      <td>...</td>\n      <td>...</td>\n      <td>...</td>\n      <td>...</td>\n      <td>...</td>\n      <td>...</td>\n      <td>...</td>\n      <td>...</td>\n    </tr>\n    <tr>\n      <th>286</th>\n      <td>2011-10-24 23:26:00</td>\n      <td>8.33</td>\n      <td>14.400000</td>\n      <td>-5.78</td>\n      <td>-491.600006</td>\n      <td>58.099998</td>\n      <td>-30.400000</td>\n      <td>25.840000</td>\n      <td>212031.0</td>\n    </tr>\n    <tr>\n      <th>287</th>\n      <td>2011-10-24 23:27:00</td>\n      <td>7.30</td>\n      <td>15.120000</td>\n      <td>-6.75</td>\n      <td>-500.700012</td>\n      <td>57.599998</td>\n      <td>-32.400002</td>\n      <td>24.250000</td>\n      <td>200028.0</td>\n    </tr>\n    <tr>\n      <th>288</th>\n      <td>2011-10-24 23:28:00</td>\n      <td>4.79</td>\n      <td>16.280001</td>\n      <td>-4.67</td>\n      <td>-502.299988</td>\n      <td>60.200001</td>\n      <td>-25.400000</td>\n      <td>24.379999</td>\n      <td>188880.0</td>\n    </tr>\n    <tr>\n      <th>289</th>\n      <td>2011-10-24 23:29:00</td>\n      <td>6.82</td>\n      <td>15.300000</td>\n      <td>-5.39</td>\n      <td>-503.600006</td>\n      <td>62.299999</td>\n      <td>-19.700001</td>\n      <td>24.490000</td>\n      <td>179700.0</td>\n    </tr>\n    <tr>\n      <th>290</th>\n      <td>2011-10-24 23:30:00</td>\n      <td>7.79</td>\n      <td>14.690000</td>\n      <td>-7.07</td>\n      <td>-499.899994</td>\n      <td>59.200001</td>\n      <td>-25.700001</td>\n      <td>24.910000</td>\n      <td>174463.0</td>\n    </tr>\n  </tbody>\n</table>\n<p>291 rows × 9 columns</p>\n</div>"
     },
     "execution_count": 69,
     "metadata": {},
     "output_type": "execute_result"
    }
   ],
   "source": [
    "data"
   ],
   "metadata": {
    "collapsed": false,
    "pycharm": {
     "name": "#%%\n"
    }
   }
  },
  {
   "cell_type": "code",
   "execution_count": null,
   "outputs": [],
   "source": [
    "\n",
    "\n",
    "\n",
    "\n",
    "\n",
    "\n",
    "\n",
    "\n",
    "\n",
    "\n",
    "\n",
    "\n",
    "\n",
    "\n",
    "\n",
    "    probe = [] # Initialize probe ID array\n",
    "    bowshock_times = [] # Initialize start and stop time array for 'satellite'\n",
    "    lunar_times = [] # Initialize start and stop time array for ARTEMIS\n",
    "\n",
    "    with open(path, newline='') as events:\n",
    "        rows = csv.reader(events)\n",
    "        next(rows)\n",
    "        for r in rows:\n",
    "            bowshock_times.append([(dt.datetime.strptime(r[0], '%Y-%m-%dT%H:%M:%S.%fZ')+dt.timedelta(minutes=30)).strftime('%Y-%m-%d/%H:%M:%S'), (dt.datetime.strptime(r[1], '%Y-%m-%dT%H:%M:%S.%fZ')).strftime('%Y-%m-%d/%H:%M:%S')])\n",
    "            lunar_times.append([(dt.datetime.strptime(r[0], '%Y-%m-%dT%H:%M:%S.%fZ')).strftime('%Y-%m-%d/%H:%M:%S'), (dt.datetime.strptime(r[1], '%Y-%m-%dT%H:%M:%S.%fZ')).strftime('%Y-%m-%d/%H:%M:%S')])\n",
    "            if satellite == 'mms':\n",
    "                probe.append(r[2])\n",
    "            elif satellite == 'themis':\n",
    "                probe.append(str(r[3]))\n",
    "            elif satellite == 'omni':\n",
    "                probe.append('o')\n",
    "\n",
    "        if satellite == 'omni':\n",
    "            keys = np.arange(len(probe)) # Create dictionary keys 0...n equal to the number of input events\n",
    "            types = ('time', 'bx', 'by', 'bz', 'vx', 'vy', 'vz', 'n', 'T') # Keys for the sub-dictionary in each event\n",
    "            data = dict((i, dict.fromkeys(types)) for i in keys) # Create the 'data' dictionary\n",
    "            for i in keys: # Iterate through every event\n",
    "                import_data = pyspedas.omni.data(trange=bowshock_times[i], datatype='1min', level='hro2', time_clip=True) # Import the tplot variable for the ith event\n",
    "                varnames = ['BX_GSE', 'BY_GSE', 'BZ_GSE', 'Vx', 'Vy', 'Vz', 'proton_density', 'T']\n",
    "                for p in varnames:\n",
    "                    tplot_math.interp_nan(p)\n",
    "                products = [get_data('IMF')[0], get_data('BX_GSE')[1], get_data('BY_GSE')[1], get_data('BZ_GSE')[1], get_data('Vx')[1], get_data('Vy')[1], get_data('Vz')[1], get_data('proton_density')[1], get_data('T')[1]] # Each event in the 'data' dictionary will consist of these products\n",
    "                for j, k in enumerate(types): # Now go through the keys of the sub-dictionary\n",
    "                    data[i][k] = products[j] # For the first sub-dict key, set that equal to the first product (and so on)...\n",
    "\n",
    "                data[i]['time'] = data[i]['time'].astype('object')\n",
    "                for n in range(len(data[i]['time'])):\n",
    "                    data[i]['time'][n] = dt.datetime.utcfromtimestamp(data[i]['time'][n])\n",
    "\n",
    "\n",
    "        if satellite == 'themis':\n",
    "            keys = np.arange(len(probe)) # Create dictionary keys 0...n equal to the number of input events\n",
    "            fgm_types = ('time', 'bx', 'by', 'bz') # Keys for the sub-dictionary in each event\n",
    "            esa_types = ('time', 'vx', 'vy', 'vz', 'n', 'T')\n",
    "            themis_fgm_data = dict((i, dict.fromkeys(fgm_types)) for i in keys) # Create the 'fgm_data' dictionary\n",
    "            themis_esa_data = dict((i, dict.fromkeys(esa_types)) for i in keys) # Create the 'esa_data' dictionary\n",
    "            for i in keys:\n",
    "                themis_fgm_import = pyspedas.themis.fgm(trange=bowshock_times[i], probe=probe[i], time_clip=True, varnames='th'+probe[i]+'_fgs_gse')\n",
    "                themis_esa_import = pyspedas.themis.esa(trange=bowshock_times[i], probe=probe[i], time_clip=True, varnames=['th'+probe[i]+'_peif_density', 'th'+probe[i]+'_peif_avgtemp', 'th'+probe[i]+'_peif_velocity_gse'])\n",
    "                fgm_products = [get_data('th'+probe[i]+'_fgs_gse')[0], get_data('th'+probe[i]+'_fgs_gse')[1][:,0], get_data('th'+probe[i]+'_fgs_gse')[1][:,1], get_data('th'+probe[i]+'_fgs_gse')[1][:,2]]\n",
    "                esa_products = [get_data('th'+probe[i]+'_peif_velocity_gse')[0], get_data('th'+probe[i]+'_peif_velocity_gse')[1][:,0], get_data('th'+probe[i]+'_peif_velocity_gse')[1][:,1], get_data('th'+probe[i]+'_peif_velocity_gse')[1][:,2], get_data('th'+probe[i]+'_peif_density')[1], get_data('th'+probe[i]+'_peif_avgtemp')[1]]\n",
    "                for j, k in enumerate(fgm_types):\n",
    "                    themis_fgm_data[i][k] = fgm_products[j]\n",
    "                for m, n in enumerate(esa_types):\n",
    "                    themis_esa_data[i][n] = esa_products[m]\n",
    "\n",
    "        keys = np.arange(len(probe)) # Create dictionary keys 0...n equal to the number of input events\n",
    "        fgm_types = ('time', 'bx', 'by', 'bz') # Keys for the sub-dictionary in each event\n",
    "        esa_types = ('time', 'vx', 'vy', 'vz', 'n', 'T')\n",
    "        artemis_fgm_data = dict((i, dict.fromkeys(fgm_types)) for i in keys) # Create the 'fgm_data' dictionary\n",
    "        artemis_esa_data = dict((i, dict.fromkeys(esa_types)) for i in keys) # Create the 'esa_data' dictionary\n",
    "        for i in keys:\n",
    "            artemis_fgm_import = pyspedas.themis.fgm(trange=lunar_times[i], probe='b', time_clip=True, varnames='thb_fgs_gse')\n",
    "            artemis_esa_import = pyspedas.themis.esa(trange=lunar_times[i], probe='b', time_clip=True, varnames=['thb_peif_density', 'thb_peif_avgtemp', 'thb_peif_velocity_gse'])\n",
    "            fgm_products = [get_data('thb_fgs_gse')[0], get_data('thb_fgs_gse')[1][:,0], get_data('thb_fgs_gse')[1][:,1], get_data('thb_fgs_gse')[1][:,2]]\n",
    "            esa_products = [get_data('thb_peif_velocity_gse')[0], get_data('thb_peif_velocity_gse')[1][:,0], get_data('thb_peif_velocity_gse')[1][:,1], get_data('thb_peif_velocity_gse')[1][:,2], get_data('thb_peif_density')[1], get_data('thb_peif_avgtemp')[1]]\n",
    "            for j, k in enumerate(fgm_types):\n",
    "                artemis_fgm_data[i][k] = fgm_products[j]\n",
    "            for j, k in enumerate(esa_types):\n",
    "                artemis_esa_data[i][k] = esa_products[j]\n",
    "\n",
    "            artemis_fgm_data[i]['time'] = artemis_fgm_data[i]['time'].astype('object')\n",
    "            artemis_esa_data[i]['time'] = artemis_esa_data[i]['time'].astype('object')\n",
    "            for n in range(len(artemis_fgm_data[i]['time'])):\n",
    "                artemis_fgm_data[i]['time'][n] = dt.datetime.utcfromtimestamp(artemis_fgm_data[i]['time'][n])\n",
    "            for n in range(len(artemis_esa_data[i]['time'])):\n",
    "                artemis_esa_data[i]['time'][n] = dt.datetime.utcfromtimestamp(artemis_esa_data[i]['time'][n])\n",
    "\n",
    "\n",
    "\n",
    "    if satellite == 'omni':\n",
    "        return data, artemis_fgm_data, artemis_esa_data\n",
    "    if satellite == 'themis':\n",
    "        return themis_fgm_data, themis_esa_data, artemis_fgm_data, artemis_esa_data"
   ],
   "metadata": {
    "collapsed": false,
    "pycharm": {
     "name": "#%%\n"
    }
   }
  }
 ],
 "metadata": {
  "kernelspec": {
   "display_name": "Python 3",
   "language": "python",
   "name": "python3"
  },
  "language_info": {
   "codemirror_mode": {
    "name": "ipython",
    "version": 2
   },
   "file_extension": ".py",
   "mimetype": "text/x-python",
   "name": "python",
   "nbconvert_exporter": "python",
   "pygments_lexer": "ipython2",
   "version": "2.7.6"
  }
 },
 "nbformat": 4,
 "nbformat_minor": 0
}