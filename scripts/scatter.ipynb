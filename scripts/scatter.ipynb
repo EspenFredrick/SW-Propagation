{
 "cells": [
  {
   "cell_type": "code",
   "execution_count": 1,
   "metadata": {
    "collapsed": true,
    "ExecuteTime": {
     "end_time": "2023-09-27T15:32:15.288486Z",
     "start_time": "2023-09-27T15:32:14.023874Z"
    }
   },
   "outputs": [],
   "source": [
    "import matplotlib.pyplot as plt\n",
    "import numpy as np\n",
    "import pandas as pd\n",
    "from matplotlib.ticker import MultipleLocator\n",
    "import os"
   ]
  },
  {
   "cell_type": "code",
   "execution_count": 2,
   "outputs": [],
   "source": [
    "def makeScatterPlots(x, y, UB, LB, slope, intercept, date, tStart, tStop, metric, unit, shift):\n",
    "    fig, ax = plt.subplots(1,2, figsize=(12,6))\n",
    "\n",
    "    bfX = np.arange(-50,50,1)\n",
    "    bfY = intercept + (slope*bfX)\n",
    "\n",
    "    ax[0].scatter(x, y, s=8)\n",
    "    ax[0].plot(bfX, bfY, color='red', linestyle='dashed')\n",
    "\n",
    "    ax[0].set_xlim(LB, UB)\n",
    "    ax[0].set_ylim(LB, UB)\n",
    "\n",
    "    ax[0].set_xlabel('Omni {}'.format(unit))\n",
    "    ax[0].set_ylabel('Artemis {}'.format(unit))\n",
    "\n",
    "    ax[0].xaxis.set_major_locator(MultipleLocator(5))\n",
    "    ax[0].yaxis.set_major_locator(MultipleLocator(5))\n",
    "    ax[0].xaxis.set_minor_locator(MultipleLocator(1))\n",
    "    ax[0].yaxis.set_minor_locator(MultipleLocator(1))\n",
    "\n",
    "    ax[0].set_title('{} between {}-{} UT'.format(date, tStart, tStop), fontsize=10)\n",
    "    ax[0].text(.01, .99, 'Slope = {}'.format(round(slope, 2)), ha='left', va='top', transform=ax[0].transAxes)\n",
    "\n",
    "\n",
    "    ax[1].plot([j for j in range(0,60)], x, label='OMNI')\n",
    "    ax[1].plot([j for j in range(0,60)], y, label='ARTEMIS')\n",
    "    ax[1].legend()\n",
    "\n",
    "    ax[1].set_xlim(0, 59)\n",
    "    ax[1].set_ylim(LB, UB)\n",
    "\n",
    "    ax[1].set_xlabel('Minute of hour')\n",
    "    ax[1].set_ylabel('{}'.format(unit))\n",
    "\n",
    "    ax[1].xaxis.set_minor_locator(MultipleLocator(1))\n",
    "    ax[1].xaxis.set_major_locator(MultipleLocator(5))\n",
    "\n",
    "    ax[1].text(.01, .99, 'Shift = {} Min.'.format(round(shift, 2)), ha='left', va='top', transform=ax[1].transAxes)\n",
    "\n",
    "\n",
    "    plt.suptitle('ARTEMIS {} as a function of observed OMNI'.format(metric, metric), y=0.95)\n"
   ],
   "metadata": {
    "collapsed": false,
    "ExecuteTime": {
     "end_time": "2023-09-27T15:34:47.534875Z",
     "start_time": "2023-09-27T15:34:47.528615Z"
    }
   }
  },
  {
   "cell_type": "code",
   "execution_count": 3,
   "outputs": [],
   "source": [
    "# Set up ARTEMIS and OMNI raw file directories and list of files\n",
    "projDir ='/Volumes/Research'\n",
    "artemisDataDirectory = os.path.join(projDir, 'Solar-Wind-Reliability/output-data/GSE/Artemis/')\n",
    "omniDataDirectory = os.path.join(projDir, 'Solar-Wind-Reliability/output-data/GSE/Omni/')\n",
    "omniFileList = sorted(filter(lambda x: os.path.isfile(os.path.join(omniDataDirectory, x)), os.listdir(omniDataDirectory)))\n",
    "artemisFileList = sorted(filter(lambda x: os.path.isfile(os.path.join(artemisDataDirectory, x)), os.listdir(artemisDataDirectory)))\n",
    "\n",
    "omniFileList.remove('.DS_Store')\n",
    "artemisFileList.remove('.DS_Store')\n",
    "\n",
    "metricDirectory = os.path.join(projDir, 'Solar-Wind-Reliability/output-data/hourly-correlations/')\n",
    "metricFolders = sorted(filter(lambda x: os.path.isdir(os.path.join(metricDirectory, x)), os.listdir(metricDirectory)))"
   ],
   "metadata": {
    "collapsed": false,
    "ExecuteTime": {
     "end_time": "2023-09-27T15:34:50.719625Z",
     "start_time": "2023-09-27T15:34:50.713163Z"
    }
   }
  },
  {
   "cell_type": "code",
   "execution_count": 4,
   "outputs": [
    {
     "name": "stdout",
     "output_type": "stream",
     "text": [
      "['Omni_2011-10-24_18-10.csv', 'Omni_2011-12-28_16-20.csv', 'Omni_2013-01-17_10-30.csv', 'Omni_2014-02-27_16-30.csv', 'Omni_2014-02-27_18-30.csv', 'Omni_2014-04-05_19-30.csv', 'Omni_2015-03-16_03-50.csv', 'Omni_2015-03-17_04-20.csv', 'Omni_2015-04-20_20-10.csv', 'Omni_2015-06-12_17-10.csv', 'Omni_2016-06-05_05-00.csv', 'Omni_2016-08-02_12-15.csv', 'Omni_2017-09-15_12-00.csv', 'Omni_2017-09-27_04-30.csv', 'Omni_2018-09-13_00-00.csv', 'Omni_2018-10-09_04-00.csv', 'Omni_2019-11-27_13-00.csv']\n"
     ]
    }
   ],
   "source": [
    "print(omniFileList)"
   ],
   "metadata": {
    "collapsed": false,
    "ExecuteTime": {
     "end_time": "2023-09-27T15:35:08.962764Z",
     "start_time": "2023-09-27T15:35:08.958044Z"
    }
   }
  },
  {
   "cell_type": "code",
   "execution_count": 7,
   "outputs": [],
   "source": [
    "#keys = ['BX_GSE', 'BY_GSE', 'BZ_GSE', 'Vx', 'Vy', 'Vz', 'proton_density', 'T']\n",
    "#units = [r'$B_x$ (nT)', r'$B_y$ (nT)', r'$B_z$ (nT)', r'$V_x$ (km/s)', r'$V_y$ (km/s)', r'$V_z$ (km/s)', r'Density ($cm^{-3}$)', 'Temperature (K)']\n",
    "\n",
    "keys = ['BY_GSE', 'BZ_GSE']\n",
    "units = [r'$B_y$ (nT)', r'$B_z$ (nT)']\n",
    "\n",
    "#for l in range(len(omniFileList)):\n",
    "for l in range(16, 17, 1):\n",
    "    artemisData = pd.read_csv(os.path.join(artemisDataDirectory, artemisFileList[l]), delimiter=',', header=0, index_col=0)\n",
    "    omniData = pd.read_csv(os.path.join(omniDataDirectory, omniFileList[l]), delimiter=',', header=0, index_col=0)\n",
    "    artemisData['Time'] = pd.to_datetime(artemisData['Time'], format='%Y-%m-%d %H:%M:%S')\n",
    "    omniData['Time'] = pd.to_datetime(omniData['Time'], format='%Y-%m-%d %H:%M:%S')\n",
    "\n",
    "    numWindows = len(omniData)-60 # Number of 1-hour blocks in the data set\n",
    "    for n in range(numWindows):\n",
    "        aStart = (artemisData.loc[artemisData['Time'] == omniData['Time'][n]]).index[0]\n",
    "        aStop = (artemisData.loc[artemisData['Time'] == omniData['Time'][n+60]]).index[0]\n",
    "\n",
    "        for k, u in zip(keys, units):\n",
    "            shiftVals = pd.read_csv(os.path.join(metricDirectory, metricFolders[l], k, 'timeshifts.csv'), delimiter=',', header=0, index_col=0)\n",
    "            slopeVals = pd.read_csv(os.path.join(metricDirectory, metricFolders[l], k, 'metrics.csv'), delimiter=',', header=0, index_col=0)\n",
    "\n",
    "            shift = shiftVals['Pearson'][n]\n",
    "            slopes = slopeVals['Slope'][n]\n",
    "            intercepts = slopeVals['Intercept'][n]\n",
    "\n",
    "            upperBound = max([max(omniData[k]), max(artemisData[k])]) + 5\n",
    "            lowerBound = min([min(omniData[k]), min(artemisData[k])]) - 5\n",
    "\n",
    "            makeScatterPlots(omniData[k][n:(n+60)], artemisData[k][aStart-shift:aStop-shift], upperBound, lowerBound, slopes, intercepts, omniData['Time'][n].strftime('%Y-%m-%d'), omniData['Time'][n].strftime('%H:%M'), omniData['Time'][n+59].strftime('%H:%M'), k, u, shift)\n",
    "\n",
    "            if os.path.exists(os.path.join('/Volumes/Research/Solar-Wind-Reliability/output-data/scatterplots/{}/{}/'.format(omniData['Time'][n].strftime('%Y-%m-%d'), k))):\n",
    "                plt.savefig(os.path.join('/Volumes/Research/Solar-Wind-Reliability/output-data/scatterplots/{}/{}/{}.png'.format(omniData['Time'][n].strftime('%Y-%m-%d'), k, omniData['Time'][n].strftime('%H-%M'))), dpi=300)\n",
    "            else:\n",
    "                os.makedirs(os.path.join('/Volumes/Research/Solar-Wind-Reliability/output-data/scatterplots/{}/{}/'.format(omniData['Time'][n].strftime('%Y-%m-%d'), k)))\n",
    "                plt.savefig(os.path.join('/Volumes/Research/Solar-Wind-Reliability/output-data/scatterplots/{}/{}/{}.png'.format(omniData['Time'][n].strftime('%Y-%m-%d'), k, omniData['Time'][n].strftime('%H-%M'))), dpi=300)\n",
    "            plt.close()"
   ],
   "metadata": {
    "collapsed": false,
    "ExecuteTime": {
     "end_time": "2023-09-27T15:40:52.598886Z",
     "start_time": "2023-09-27T15:37:26.111066Z"
    }
   }
  },
  {
   "cell_type": "code",
   "execution_count": null,
   "outputs": [],
   "source": [],
   "metadata": {
    "collapsed": false
   }
  }
 ],
 "metadata": {
  "kernelspec": {
   "display_name": "Python 3",
   "language": "python",
   "name": "python3"
  },
  "language_info": {
   "codemirror_mode": {
    "name": "ipython",
    "version": 2
   },
   "file_extension": ".py",
   "mimetype": "text/x-python",
   "name": "python",
   "nbconvert_exporter": "python",
   "pygments_lexer": "ipython2",
   "version": "2.7.6"
  }
 },
 "nbformat": 4,
 "nbformat_minor": 0
}
