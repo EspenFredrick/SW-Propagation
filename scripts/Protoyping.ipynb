{
 "cells": [
  {
   "cell_type": "code",
   "execution_count": 1,
   "metadata": {
    "collapsed": true,
    "ExecuteTime": {
     "end_time": "2023-11-16T18:03:42.350908Z",
     "start_time": "2023-11-16T18:03:42.304684Z"
    }
   },
   "outputs": [],
   "source": [
    "import numpy as np"
   ]
  },
  {
   "cell_type": "code",
   "execution_count": 2,
   "outputs": [],
   "source": [
    "def closestTo(inputList, val):\n",
    "  arr = np.asarray(inputList)\n",
    "  i = (np.abs(arr - val)).argmin()\n",
    "  return arr[i]"
   ],
   "metadata": {
    "collapsed": false,
    "ExecuteTime": {
     "end_time": "2023-11-16T18:04:04.871143Z",
     "start_time": "2023-11-16T18:04:04.679246Z"
    }
   }
  },
  {
   "cell_type": "code",
   "execution_count": 9,
   "outputs": [],
   "source": [
    "def closestToSimple(inputList, val):\n",
    "    return inputList[np.argmin(np.abs(np.array(inputList) - val))]"
   ],
   "metadata": {
    "collapsed": false,
    "ExecuteTime": {
     "end_time": "2023-11-16T18:04:56.714321Z",
     "start_time": "2023-11-16T18:04:56.710229Z"
    }
   }
  },
  {
   "cell_type": "code",
   "execution_count": 11,
   "outputs": [
    {
     "data": {
      "text/plain": "1.5"
     },
     "execution_count": 11,
     "metadata": {},
     "output_type": "execute_result"
    }
   ],
   "source": [
    "closestTo([22,4,7,2,1.5,8,7], 1)"
   ],
   "metadata": {
    "collapsed": false,
    "ExecuteTime": {
     "end_time": "2023-11-16T18:05:13.596193Z",
     "start_time": "2023-11-16T18:05:13.589639Z"
    }
   }
  },
  {
   "cell_type": "code",
   "execution_count": 12,
   "outputs": [
    {
     "data": {
      "text/plain": "1.3"
     },
     "execution_count": 12,
     "metadata": {},
     "output_type": "execute_result"
    }
   ],
   "source": [
    "closestToSimple([22,4,7,2,1.3,8,7], 1)"
   ],
   "metadata": {
    "collapsed": false,
    "ExecuteTime": {
     "end_time": "2023-11-16T18:05:15.311490Z",
     "start_time": "2023-11-16T18:05:15.309427Z"
    }
   }
  },
  {
   "cell_type": "code",
   "execution_count": 13,
   "outputs": [],
   "source": [
    "def doMape(omni, artemis):\n",
    "    return np.mean(np.abs((artemis - omni) / artemis))"
   ],
   "metadata": {
    "collapsed": false,
    "ExecuteTime": {
     "end_time": "2023-11-16T18:22:25.623575Z",
     "start_time": "2023-11-16T18:22:25.619859Z"
    }
   }
  },
  {
   "cell_type": "code",
   "execution_count": 14,
   "outputs": [],
   "source": [
    "def doMapeLong(omni, artemis):\n",
    "    return (1/60) * (np.sum([abs(((a - o)/a)) for o, a in zip(omni, artemis)]))"
   ],
   "metadata": {
    "collapsed": false,
    "ExecuteTime": {
     "end_time": "2023-11-16T18:22:45.783018Z",
     "start_time": "2023-11-16T18:22:45.779839Z"
    }
   }
  },
  {
   "cell_type": "code",
   "execution_count": 31,
   "outputs": [],
   "source": [
    "omni = np.random.randint(-101, 101, 60)\n",
    "artemis = np.random.randint(-101, 101, 60)"
   ],
   "metadata": {
    "collapsed": false,
    "ExecuteTime": {
     "end_time": "2023-11-16T18:29:38.378225Z",
     "start_time": "2023-11-16T18:29:38.373936Z"
    }
   }
  },
  {
   "cell_type": "code",
   "execution_count": 32,
   "outputs": [
    {
     "name": "stderr",
     "output_type": "stream",
     "text": [
      "/var/folders/qq/kxsxv0ks5j16hqtn13mpk4sw0000gn/T/ipykernel_15170/3972059137.py:2: RuntimeWarning: divide by zero encountered in divide\n",
      "  return np.mean(np.abs((artemis - omni) / artemis))\n"
     ]
    },
    {
     "data": {
      "text/plain": "inf"
     },
     "execution_count": 32,
     "metadata": {},
     "output_type": "execute_result"
    }
   ],
   "source": [
    "doMape(omni, artemis)"
   ],
   "metadata": {
    "collapsed": false,
    "ExecuteTime": {
     "end_time": "2023-11-16T18:29:38.921247Z",
     "start_time": "2023-11-16T18:29:38.915382Z"
    }
   }
  },
  {
   "cell_type": "code",
   "execution_count": 33,
   "outputs": [
    {
     "name": "stderr",
     "output_type": "stream",
     "text": [
      "/var/folders/qq/kxsxv0ks5j16hqtn13mpk4sw0000gn/T/ipykernel_15170/2132366456.py:2: RuntimeWarning: divide by zero encountered in scalar divide\n",
      "  return (1/60) * (np.sum([abs(((a - o)/a)) for o, a in zip(omni, artemis)]))\n"
     ]
    },
    {
     "data": {
      "text/plain": "inf"
     },
     "execution_count": 33,
     "metadata": {},
     "output_type": "execute_result"
    }
   ],
   "source": [
    "doMapeLong(omni, artemis)"
   ],
   "metadata": {
    "collapsed": false,
    "ExecuteTime": {
     "end_time": "2023-11-16T18:29:41.178094Z",
     "start_time": "2023-11-16T18:29:41.170672Z"
    }
   }
  },
  {
   "cell_type": "code",
   "execution_count": 21,
   "outputs": [],
   "source": [
    "def doRatioLong(o, a):\n",
    "   return  np.average([(abs(om - ar) / abs(ar)) for om, ar in zip(o, a)])"
   ],
   "metadata": {
    "collapsed": false,
    "ExecuteTime": {
     "end_time": "2023-11-16T18:26:50.074668Z",
     "start_time": "2023-11-16T18:26:50.072629Z"
    }
   }
  },
  {
   "cell_type": "code",
   "execution_count": 22,
   "outputs": [],
   "source": [
    "def doRatioShort(o, a):\n",
    "    return  np.mean(np.abs(o - a) / np.abs(a))"
   ],
   "metadata": {
    "collapsed": false,
    "ExecuteTime": {
     "end_time": "2023-11-16T18:26:58.582248Z",
     "start_time": "2023-11-16T18:26:58.578448Z"
    }
   }
  },
  {
   "cell_type": "code",
   "execution_count": 34,
   "outputs": [
    {
     "name": "stderr",
     "output_type": "stream",
     "text": [
      "/var/folders/qq/kxsxv0ks5j16hqtn13mpk4sw0000gn/T/ipykernel_15170/351219452.py:2: RuntimeWarning: divide by zero encountered in scalar divide\n",
      "  return  np.average([(abs(om - ar) / abs(ar)) for om, ar in zip(o, a)])\n"
     ]
    },
    {
     "data": {
      "text/plain": "inf"
     },
     "execution_count": 34,
     "metadata": {},
     "output_type": "execute_result"
    }
   ],
   "source": [
    "doRatioLong(omni, artemis)"
   ],
   "metadata": {
    "collapsed": false,
    "ExecuteTime": {
     "end_time": "2023-11-16T18:29:43.284978Z",
     "start_time": "2023-11-16T18:29:43.278216Z"
    }
   }
  },
  {
   "cell_type": "code",
   "execution_count": 35,
   "outputs": [
    {
     "name": "stderr",
     "output_type": "stream",
     "text": [
      "/var/folders/qq/kxsxv0ks5j16hqtn13mpk4sw0000gn/T/ipykernel_15170/4221331949.py:2: RuntimeWarning: divide by zero encountered in divide\n",
      "  return  np.mean(np.abs(o - a) / np.abs(a))\n"
     ]
    },
    {
     "data": {
      "text/plain": "inf"
     },
     "execution_count": 35,
     "metadata": {},
     "output_type": "execute_result"
    }
   ],
   "source": [
    "doRatioShort(omni, artemis)"
   ],
   "metadata": {
    "collapsed": false,
    "ExecuteTime": {
     "end_time": "2023-11-16T18:29:43.953740Z",
     "start_time": "2023-11-16T18:29:43.946712Z"
    }
   }
  },
  {
   "cell_type": "code",
   "execution_count": 36,
   "outputs": [],
   "source": [
    "import numpy as np\n",
    "import pandas as pd\n",
    "from scipy.stats import pearsonr, linregress\n",
    "import os"
   ],
   "metadata": {
    "collapsed": false,
    "ExecuteTime": {
     "end_time": "2023-11-16T18:49:09.042573Z",
     "start_time": "2023-11-16T18:49:08.316576Z"
    }
   }
  },
  {
   "cell_type": "code",
   "execution_count": 78,
   "outputs": [],
   "source": [
    "# Correlation metrics\n",
    "def corrMetrics(omni, artemis):\n",
    "    ratio = np.mean(np.abs(omni - artemis) / np.abs(artemis))\n",
    "    rmse = np.sqrt(np.mean((artemis - omni) ** 2))\n",
    "    rmse_Artemis = np.sqrt(np.mean(np.where(artemis != 0, (artemis - omni) ** 2 / (artemis ** 2), np.zeros_like(artemis))))\n",
    "    rmse_Omni = np.sqrt(np.mean(np.where(omni != 0, (artemis - omni) ** 2 / (omni ** 2), 0)))\n",
    "    rmse_Average = np.sqrt(np.mean((artemis - omni) ** 2 / (((artemis + omni) / 2) ** 2)))\n",
    "\n",
    "    slope, intercept, *_ = linregress(artemis, omni)\n",
    "\n",
    "    return ratio, rmse, rmse_Artemis, rmse_Omni, rmse_Average, slope, intercept"
   ],
   "metadata": {
    "collapsed": false,
    "ExecuteTime": {
     "end_time": "2023-11-16T21:07:40.471363Z",
     "start_time": "2023-11-16T21:07:40.465020Z"
    }
   }
  },
  {
   "cell_type": "code",
   "execution_count": 79,
   "outputs": [],
   "source": [
    "def calculate_metrics(omni_slice, artemis_slice):\n",
    "    corrcoef, _ = pearsonr(omni_slice, artemis_slice)\n",
    "    ratio, rmse, rmseArtemis, rmseOmni, rmseAverage, slopes, ints = corrMetrics(omni_slice, artemis_slice)\n",
    "    return corrcoef, ratio, rmse, rmseArtemis, rmseOmni, rmseAverage, slopes, ints"
   ],
   "metadata": {
    "collapsed": false,
    "ExecuteTime": {
     "end_time": "2023-11-16T21:07:42.526412Z",
     "start_time": "2023-11-16T21:07:42.516168Z"
    }
   }
  },
  {
   "cell_type": "code",
   "execution_count": 80,
   "outputs": [],
   "source": [
    "def find_max_value_and_index(values):\n",
    "    if all(c < 0 for c in values[1:]):\n",
    "        return max(values[1:], key=abs), values.index(max(values[1:], key=abs))\n",
    "    else:\n",
    "        return max(values[1:]), values.index(max(values[1:]))\n",
    "\n",
    "def find_min_value_and_index(values):\n",
    "    return min(values[1:]), values.index(min(values[1:]))\n",
    "\n",
    "# Find slope closest to a given value\n",
    "def closest_to_value(inputList, val):\n",
    "    return inputList[np.argmin(np.abs(np.array(inputList) - val))]"
   ],
   "metadata": {
    "collapsed": false,
    "ExecuteTime": {
     "end_time": "2023-11-16T21:07:58.683724Z",
     "start_time": "2023-11-16T21:07:58.673006Z"
    }
   }
  },
  {
   "cell_type": "code",
   "execution_count": null,
   "outputs": [],
   "source": [
    "# Function to compute the correlation metrics.\n",
    "def correlate(artemis, omni, workingDir):\n",
    "    keys = ['BZ_GSE'] # Variables to loop over and their respective units\n",
    "    num_windows = 1 #num_windows = len(omni)-60 # Number of 1-hour blocks in the data set\n",
    "\n",
    "    for k in keys:\n",
    "        print(f'Key {k}: Computing {num_windows} windows...')\n",
    "\n",
    "        for n in range(num_windows): # Loop over each block\n",
    "            a_start = artemis.loc[artemis['Time'] == omni['Time'].iloc[n]].index[0] # Find the start index in Artemis that matches the nth window of Omni\n",
    "            a_stop = artemis.loc[artemis['Time'] == omni['Time'].iloc[n+60]].index[0] # Find the stop index in Artemis that matches the n+60 th window of Omni\n",
    "            hourly_velocity = np.average(omni['Vx'][n:n+60]) # Compute the average SW velocity for the interval\n",
    "\n",
    "            metric_names = ['Pearson', 'Ratio', 'RMSE', 'RMSE Artemis', 'RMSE Omni', 'RMSE Average', 'Slopes', 'Intercepts']\n",
    "            metric_stores = {name: [] for name in metric_names}\n",
    "            target_stores = {name + ' targetval': [] for name in metric_names}\n",
    "\n",
    "            for i in range(31):\n",
    "                omni_slice = omni[k][n:n+60]\n",
    "                artemis_slice = artemis[k][aStart-i:aStop-i]\n",
    "\n",
    "                for metric, store in metric_stores.items():\n",
    "                    values = calculate_metrics(omni_slice, artemis_slice)\n",
    "                    store.extend(values)\n",
    "\n",
    "            pearson_max_value, pearson_max_index = find_max_value_and_index(metric_stores['Pearson'])\n",
    "            metric_stores['Pearson Max'] = [pearson_max_value, pearson_max_index]"
   ],
   "metadata": {
    "collapsed": false
   }
  },
  {
   "cell_type": "code",
   "execution_count": 89,
   "outputs": [
    {
     "name": "stdout",
     "output_type": "stream",
     "text": [
      "Pearson [-95.8, -90.7, -85.4, -83.6, -90.3, -91.6, -91.1, -89.9, -92.5, -96.5, -99.3, -98.9, -103.1, -101.3, -100.0, -104.7, -103.2, -101.5, -94.8, -92.1, -87.1, -92.1, -88.3, -95.4, -93.5, -90.8, -96.5, -99.4, -104.4, -110.8, -116.9]\n",
      "Ratio [-95.8, -90.7, -85.4, -83.6, -90.3, -91.6, -91.1, -89.9, -92.5, -96.5, -99.3, -98.9, -103.1, -101.3, -100.0, -104.7, -103.2, -101.5, -94.8, -92.1, -87.1, -92.1, -88.3, -95.4, -93.5, -90.8, -96.5, -99.4, -104.4, -110.8, -116.9]\n",
      "RMSE [-95.8, -90.7, -85.4, -83.6, -90.3, -91.6, -91.1, -89.9, -92.5, -96.5, -99.3, -98.9, -103.1, -101.3, -100.0, -104.7, -103.2, -101.5, -94.8, -92.1, -87.1, -92.1, -88.3, -95.4, -93.5, -90.8, -96.5, -99.4, -104.4, -110.8, -116.9]\n",
      "RMSE Artemis [-95.8, -90.7, -85.4, -83.6, -90.3, -91.6, -91.1, -89.9, -92.5, -96.5, -99.3, -98.9, -103.1, -101.3, -100.0, -104.7, -103.2, -101.5, -94.8, -92.1, -87.1, -92.1, -88.3, -95.4, -93.5, -90.8, -96.5, -99.4, -104.4, -110.8, -116.9]\n",
      "RMSE Omni [-95.8, -90.7, -85.4, -83.6, -90.3, -91.6, -91.1, -89.9, -92.5, -96.5, -99.3, -98.9, -103.1, -101.3, -100.0, -104.7, -103.2, -101.5, -94.8, -92.1, -87.1, -92.1, -88.3, -95.4, -93.5, -90.8, -96.5, -99.4, -104.4, -110.8, -116.9]\n",
      "RMSE Average [-95.8, -90.7, -85.4, -83.6, -90.3, -91.6, -91.1, -89.9, -92.5, -96.5, -99.3, -98.9, -103.1, -101.3, -100.0, -104.7, -103.2, -101.5, -94.8, -92.1, -87.1, -92.1, -88.3, -95.4, -93.5, -90.8, -96.5, -99.4, -104.4, -110.8, -116.9]\n",
      "Slopes [-95.8, -90.7, -85.4, -83.6, -90.3, -91.6, -91.1, -89.9, -92.5, -96.5, -99.3, -98.9, -103.1, -101.3, -100.0, -104.7, -103.2, -101.5, -94.8, -92.1, -87.1, -92.1, -88.3, -95.4, -93.5, -90.8, -96.5, -99.4, -104.4, -110.8, -116.9]\n",
      "Intercepts [-95.8, -90.7, -85.4, -83.6, -90.3, -91.6, -91.1, -89.9, -92.5, -96.5, -99.3, -98.9, -103.1, -101.3, -100.0, -104.7, -103.2, -101.5, -94.8, -92.1, -87.1, -92.1, -88.3, -95.4, -93.5, -90.8, -96.5, -99.4, -104.4, -110.8, -116.9]\n"
     ]
    }
   ],
   "source": [
    "metric_names = ['Pearson', 'Ratio', 'RMSE', 'RMSE Artemis', 'RMSE Omni', 'RMSE Average', 'Slopes', 'Intercepts']\n",
    "metric_stores = {name: [] for name in metric_names}\n",
    "target_stores = {name + ' targetval': [] for name in metric_names}\n",
    "\n",
    "for i in range(31):\n",
    "    omni_slice = omni[0:10]\n",
    "    artemis_slice = artemis[0+i:10+i]\n",
    "\n",
    "    for metric, store in metric_stores.items():\n",
    "        values = np.mean(omni_slice + artemis_slice)\n",
    "        store.append(values)\n",
    "\n",
    "for metric, store in metric_stores.items():\n",
    "    print(metric, store)"
   ],
   "metadata": {
    "collapsed": false,
    "ExecuteTime": {
     "end_time": "2023-11-16T21:16:15.208125Z",
     "start_time": "2023-11-16T21:16:15.204771Z"
    }
   }
  },
  {
   "cell_type": "code",
   "execution_count": 69,
   "outputs": [
    {
     "name": "stdout",
     "output_type": "stream",
     "text": [
      "0 - Omni_2011-10-24_18-10.csv\n",
      "1 - Omni_2011-12-28_16-20.csv\n",
      "2 - Omni_2013-01-17_10-30.csv\n",
      "3 - Omni_2014-02-27_16-30.csv\n",
      "4 - Omni_2014-02-27_18-30.csv\n",
      "5 - Omni_2014-04-05_19-30.csv\n",
      "6 - Omni_2015-03-16_03-50.csv\n",
      "7 - Omni_2015-03-17_04-20.csv\n",
      "8 - Omni_2015-04-20_20-10.csv\n",
      "9 - Omni_2015-06-12_17-10.csv\n",
      "10 - Omni_2016-06-05_05-00.csv\n",
      "11 - Omni_2016-08-02_12-15.csv\n",
      "12 - Omni_2017-09-15_12-00.csv\n",
      "13 - Omni_2017-09-27_04-30.csv\n",
      "14 - Omni_2018-09-13_00-00.csv\n",
      "15 - Omni_2018-10-09_04-00.csv\n",
      "16 - Omni_2019-11-27_13-00.csv\n",
      "Correlating Omni_2011-10-24_18-10.csv and Artemis_2011-10-24_18-10.csv...\n",
      "Key BZ_GSE: Computing 1 windows...\n",
      "60 60 90\n",
      "60 60 89\n",
      "60 60 88\n",
      "60 60 87\n",
      "60 60 86\n",
      "60 60 85\n",
      "60 60 84\n",
      "60 60 83\n",
      "60 60 82\n",
      "60 60 81\n",
      "60 60 80\n",
      "60 60 79\n",
      "60 60 78\n",
      "60 60 77\n",
      "60 60 76\n",
      "60 60 75\n",
      "60 60 74\n",
      "60 60 73\n",
      "60 60 72\n",
      "60 60 71\n",
      "60 60 70\n",
      "60 60 69\n",
      "60 60 68\n",
      "60 60 67\n",
      "60 60 66\n",
      "60 60 65\n",
      "60 60 64\n",
      "60 60 63\n",
      "60 60 62\n",
      "60 60 61\n",
      "60 60 60\n"
     ]
    }
   ],
   "source": [
    "projDir ='/Volumes/Research'\n",
    "artemisDirectory = os.path.join(projDir, 'Solar-Wind-Reliability/output-data/GSE/Artemis/')\n",
    "omniDirectory = os.path.join(projDir, 'Solar-Wind-Reliability/output-data/GSE/Omni/')\n",
    "\n",
    "omniFileList = sorted(filter(lambda x: os.path.isfile(os.path.join(omniDirectory, x)), os.listdir(omniDirectory)))\n",
    "artemisFileList = sorted(filter(lambda x: os.path.isfile(os.path.join(artemisDirectory, x)), os.listdir(artemisDirectory)))\n",
    "omniFileList.remove('.DS_Store')\n",
    "artemisFileList.remove('.DS_Store')\n",
    "for nums, files in enumerate(omniFileList):\n",
    "    print('{} - {}'.format(nums, files))\n",
    "toCorrelate = input('Please enter the number of the file you wish to correlate, or type \"all\" to correlate the whole folder: ')\n",
    "\n",
    "if toCorrelate == 'all':\n",
    "    for l in range(len(omniFileList)):\n",
    "        if not omniFileList[l].startswith('.') and not 'copy' in omniFileList[l]:\n",
    "            print('Correlating {}...'.format(omniFileList[l]))\n",
    "            artemisData = pd.read_csv(os.path.join(artemisDirectory, artemisFileList[l]), delimiter=',', header=0)\n",
    "            omniData = pd.read_csv(os.path.join(omniDirectory, omniFileList[l]), delimiter=',', header=0)\n",
    "            artemisData['Time'] = pd.to_datetime(artemisData['Time'], format='%Y-%m-%d %H:%M:%S')\n",
    "            omniData['Time'] = pd.to_datetime(omniData['Time'], format='%Y-%m-%d %H:%M:%S')\n",
    "\n",
    "            correlate(artemisData, omniData, projDir)\n",
    "\n",
    "elif int(toCorrelate) < len(omniFileList):\n",
    "    print('Correlating {} and {}...'.format(omniFileList[int(toCorrelate)], artemisFileList[int(toCorrelate)]))\n",
    "    artemisData = pd.read_csv(os.path.join(artemisDirectory, artemisFileList[int(toCorrelate)]), delimiter=',', header=0)\n",
    "    omniData = pd.read_csv(os.path.join(omniDirectory, omniFileList[int(toCorrelate)]), delimiter=',', header=0)\n",
    "    artemisData['Time'] = pd.to_datetime(artemisData['Time'], format='%Y-%m-%d %H:%M:%S')\n",
    "    omniData['Time'] = pd.to_datetime(omniData['Time'], format='%Y-%m-%d %H:%M:%S')\n",
    "\n",
    "    a = correlate(artemisData, omniData, projDir)\n",
    "\n",
    "else:\n",
    "    raise ValueError('Must be \"any\" or less than {}'.format(len(omniFileList)))\n"
   ],
   "metadata": {
    "collapsed": false,
    "ExecuteTime": {
     "end_time": "2023-11-16T20:46:33.692590Z",
     "start_time": "2023-11-16T20:46:32.112734Z"
    }
   }
  },
  {
   "cell_type": "code",
   "execution_count": 59,
   "outputs": [
    {
     "data": {
      "text/plain": "array([3.47757449, 3.47868571, 3.47009936, 3.43550103, 3.42020428,\n       3.44114815, 3.45414943, 3.38367207, 3.29776515, 3.25561833,\n       3.51954362, 3.50055228, 3.43016661, 3.36168471, 3.31099348,\n       3.25128459, 3.19629641, 3.1467014 , 3.09359263, 3.07159669,\n       3.02551717, 2.97381522, 2.91681691, 2.87503523, 2.83170403,\n       2.79350525, 2.76163965, 2.72580908, 2.68712688, 2.65225202,\n       2.61253998])"
     },
     "execution_count": 59,
     "metadata": {},
     "output_type": "execute_result"
    }
   ],
   "source": [
    "a[0]"
   ],
   "metadata": {
    "collapsed": false,
    "ExecuteTime": {
     "end_time": "2023-11-16T20:08:39.053525Z",
     "start_time": "2023-11-16T20:08:39.050239Z"
    }
   }
  },
  {
   "cell_type": "code",
   "execution_count": 91,
   "outputs": [],
   "source": [
    "metric_names = ['Pearson', 'Ratio', 'RMSE', 'RMSE Artemis', 'RMSE Omni', 'RMSE Average', 'Slopes', 'Intercepts']\n",
    "metric_stores = {name: [] for name in metric_names}"
   ],
   "metadata": {
    "collapsed": false,
    "ExecuteTime": {
     "end_time": "2023-11-17T21:13:25.173100Z",
     "start_time": "2023-11-17T21:13:25.168290Z"
    }
   }
  },
  {
   "cell_type": "code",
   "execution_count": 92,
   "outputs": [
    {
     "data": {
      "text/plain": "{'Pearson': [],\n 'Ratio': [],\n 'RMSE': [],\n 'RMSE Artemis': [],\n 'RMSE Omni': [],\n 'RMSE Average': [],\n 'Slopes': [],\n 'Intercepts': []}"
     },
     "execution_count": 92,
     "metadata": {},
     "output_type": "execute_result"
    }
   ],
   "source": [
    "metric_stores"
   ],
   "metadata": {
    "collapsed": false,
    "ExecuteTime": {
     "end_time": "2023-11-17T21:13:30.531930Z",
     "start_time": "2023-11-17T21:13:30.519595Z"
    }
   }
  },
  {
   "cell_type": "code",
   "execution_count": 96,
   "outputs": [
    {
     "name": "stdout",
     "output_type": "stream",
     "text": [
      "[]\n",
      "[]\n",
      "[]\n",
      "[]\n",
      "[]\n",
      "[]\n",
      "[]\n",
      "[]\n"
     ]
    }
   ],
   "source": [
    "for metric, store in metric_stores.items():\n",
    "    print(metric_stores[metric])"
   ],
   "metadata": {
    "collapsed": false,
    "ExecuteTime": {
     "end_time": "2023-11-17T21:14:39.173908Z",
     "start_time": "2023-11-17T21:14:39.169715Z"
    }
   }
  },
  {
   "cell_type": "code",
   "execution_count": null,
   "outputs": [],
   "source": [],
   "metadata": {
    "collapsed": false
   }
  }
 ],
 "metadata": {
  "kernelspec": {
   "display_name": "Python 3",
   "language": "python",
   "name": "python3"
  },
  "language_info": {
   "codemirror_mode": {
    "name": "ipython",
    "version": 2
   },
   "file_extension": ".py",
   "mimetype": "text/x-python",
   "name": "python",
   "nbconvert_exporter": "python",
   "pygments_lexer": "ipython2",
   "version": "2.7.6"
  }
 },
 "nbformat": 4,
 "nbformat_minor": 0
}
